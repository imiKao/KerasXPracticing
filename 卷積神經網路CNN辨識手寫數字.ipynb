{
  "nbformat": 4,
  "nbformat_minor": 0,
  "metadata": {
    "colab": {
      "name": "卷積神經網路CNN辨識手寫數字",
      "version": "0.3.2",
      "provenance": [],
      "collapsed_sections": []
    },
    "kernelspec": {
      "name": "python3",
      "display_name": "Python 3"
    }
  },
  "cells": [
    {
      "cell_type": "code",
      "metadata": {
        "id": "dH980l7KtXKE",
        "colab_type": "code",
        "colab": {}
      },
      "source": [
        "import numpy as np\n",
        "import pandas as pd\n",
        "import matplotlib.pyplot as plt\n",
        "\n",
        "from keras.datasets import mnist\n",
        "from keras.utils import np_utils\n",
        "\n",
        "np.random.seed(10)"
      ],
      "execution_count": 0,
      "outputs": []
    },
    {
      "cell_type": "code",
      "metadata": {
        "id": "nivdDZzkxwqg",
        "colab_type": "code",
        "colab": {}
      },
      "source": [
        "# 匯入CNN所需模組\n",
        "from keras.models import Sequential\n",
        "from keras.layers import Dense, Dropout, Flatten, Conv2D, MaxPooling2D   # 匯入keras的layer模組，後續卷積神經網路會使用"
      ],
      "execution_count": 0,
      "outputs": []
    },
    {
      "cell_type": "markdown",
      "metadata": {
        "id": "3YdXJq6kvQ7a",
        "colab_type": "text"
      },
      "source": [
        "### 進行資料預處理"
      ]
    },
    {
      "cell_type": "markdown",
      "metadata": {
        "id": "hEQuOygVvhaL",
        "colab_type": "text"
      },
      "source": [
        "#### STEP1. 讀取mnist資料"
      ]
    },
    {
      "cell_type": "code",
      "metadata": {
        "id": "3U89qbNZvEtf",
        "colab_type": "code",
        "colab": {}
      },
      "source": [
        "(X_train, y_train), (X_test, y_test) = mnist.load_data()"
      ],
      "execution_count": 0,
      "outputs": []
    },
    {
      "cell_type": "markdown",
      "metadata": {
        "id": "B9BEl3UlvaKG",
        "colab_type": "text"
      },
      "source": [
        "#### STEP2. 將feature(數字影像特徵值)轉換為4維矩陣"
      ]
    },
    {
      "cell_type": "code",
      "metadata": {
        "id": "TZSHslFpvur0",
        "colab_type": "code",
        "colab": {}
      },
      "source": [
        "X_Train4D = X_train.reshape(X_train.shape[0], 28, 28, 1).astype('float32')\n",
        "X_Test4D = X_test.reshape(X_test.shape[0], 28, 28, 1).astype('float32')"
      ],
      "execution_count": 0,
      "outputs": []
    },
    {
      "cell_type": "markdown",
      "metadata": {
        "id": "Vi03GOvcwED-",
        "colab_type": "text"
      },
      "source": [
        "#### STEP3. 將feature(數字影像特徵值)標準化"
      ]
    },
    {
      "cell_type": "code",
      "metadata": {
        "id": "8OLvZe4ywJo1",
        "colab_type": "code",
        "colab": {}
      },
      "source": [
        "X_Train4D_Normalize = X_Train4D / 255\n",
        "X_Test4D_Normalize = X_Test4D / 255"
      ],
      "execution_count": 0,
      "outputs": []
    },
    {
      "cell_type": "markdown",
      "metadata": {
        "id": "JwUUtm_8w92V",
        "colab_type": "text"
      },
      "source": [
        "#### STEP4. Label(數字真實值)進行OneHot encoding編碼"
      ]
    },
    {
      "cell_type": "code",
      "metadata": {
        "id": "EFkMYJ6sxGn9",
        "colab_type": "code",
        "colab": {}
      },
      "source": [
        "y_Train_OneHotEncoding = np_utils.to_categorical(y_train)\n",
        "y_Test_OneHotEncoding = np_utils.to_categorical(y_test)"
      ],
      "execution_count": 0,
      "outputs": []
    },
    {
      "cell_type": "markdown",
      "metadata": {
        "id": "mOykmDNPxdeX",
        "colab_type": "text"
      },
      "source": [
        "### 建立模型"
      ]
    },
    {
      "cell_type": "markdown",
      "metadata": {
        "id": "7ZVCawfsxhX2",
        "colab_type": "text"
      },
      "source": [
        "#### STEP1. 建立keras的Sequential模型"
      ]
    },
    {
      "cell_type": "code",
      "metadata": {
        "id": "DMX9Dt5KyZ8v",
        "colab_type": "code",
        "colab": {}
      },
      "source": [
        "model = Sequential()"
      ],
      "execution_count": 0,
      "outputs": []
    },
    {
      "cell_type": "markdown",
      "metadata": {
        "id": "y_OTNe5dydR3",
        "colab_type": "text"
      },
      "source": [
        "#### STEP2. 建立卷積層1、池化層1、卷積層2與池化層2"
      ]
    },
    {
      "cell_type": "markdown",
      "metadata": {
        "id": "YgO20GTsy2jW",
        "colab_type": "text"
      },
      "source": [
        "* 建立卷積層1(影像數量不變，但縮減影像大小(藉由池化層1))"
      ]
    },
    {
      "cell_type": "code",
      "metadata": {
        "id": "BCzSqdb4yi7n",
        "colab_type": "code",
        "colab": {}
      },
      "source": [
        "model.add(Conv2D(filters = 16,                 # 建立16個濾鏡filter weight\n",
        "                 kernel_size = (5, 5),         # 每個濾鏡5*5大小\n",
        "                 padding = 'same',             # 此設定表示卷積運算產生的卷積影響大小不變\n",
        "                 input_shape = (28, 28, 1),    # 第1、2個維度代表輸入的影像形狀28*28大小，第3個維度表示單色灰階影響故維度為1\n",
        "                 activation = 'relu'           # 設定ReLU激活函數\n",
        "                )\n",
        "         )"
      ],
      "execution_count": 0,
      "outputs": []
    },
    {
      "cell_type": "markdown",
      "metadata": {
        "id": "V7ZmhgSVyzWX",
        "colab_type": "text"
      },
      "source": [
        "* 建立池化層1(縮減影像大小)"
      ]
    },
    {
      "cell_type": "code",
      "metadata": {
        "id": "733FhiTPy8P-",
        "colab_type": "code",
        "colab": {}
      },
      "source": [
        "model.add(MaxPooling2D(pool_size = (2, 2)))   # 執行第一次縮減取樣，將16個28*28影像，經過pool_size(2, 2)縮減成16個14*14影像"
      ],
      "execution_count": 0,
      "outputs": []
    },
    {
      "cell_type": "markdown",
      "metadata": {
        "id": "b543LLKXzBxX",
        "colab_type": "text"
      },
      "source": [
        "* 建立卷積層2(改變影像數目)"
      ]
    },
    {
      "cell_type": "code",
      "metadata": {
        "id": "3tpGTfXSzNUX",
        "colab_type": "code",
        "colab": {}
      },
      "source": [
        "model.add(Conv2D(filters = 36,             # 建立36個濾鏡filter weight\n",
        "                 kernel_size = (5, 5),     # 每個濾鏡filter weight 5x5大小\n",
        "                 padding = 'same',         # 此設定表示卷積運算產生的卷積影響大小不變\n",
        "                 activation = 'relu'       # 設定ReLU激活函數\n",
        "                )\n",
        "         )"
      ],
      "execution_count": 0,
      "outputs": []
    },
    {
      "cell_type": "markdown",
      "metadata": {
        "id": "n8Aigk8azc1R",
        "colab_type": "text"
      },
      "source": [
        "* 建立池化層2(進行第二次縮減影像)，並加入DropOut(0.25)避免Overfitting(每次迭代隨機放棄25%神經元)"
      ]
    },
    {
      "cell_type": "code",
      "metadata": {
        "id": "baZRgD3xzfT4",
        "colab_type": "code",
        "colab": {}
      },
      "source": [
        "model.add(MaxPooling2D(pool_size = (2, 2)))   # 將36個14*14影像，縮減成36個7*7影像"
      ],
      "execution_count": 0,
      "outputs": []
    },
    {
      "cell_type": "code",
      "metadata": {
        "id": "IguHXNUNzvPg",
        "colab_type": "code",
        "colab": {}
      },
      "source": [
        "model.add(Dropout(0.25))"
      ],
      "execution_count": 0,
      "outputs": []
    },
    {
      "cell_type": "markdown",
      "metadata": {
        "id": "cQlDlhE9z7Pw",
        "colab_type": "text"
      },
      "source": [
        "#### STEP3. 建立神經網路(平坦層、隱藏層、輸出層)"
      ]
    },
    {
      "cell_type": "markdown",
      "metadata": {
        "id": "gMcpA3120EhP",
        "colab_type": "text"
      },
      "source": [
        "* 建立平坦層"
      ]
    },
    {
      "cell_type": "code",
      "metadata": {
        "id": "XGnkd9oV0IPf",
        "colab_type": "code",
        "colab": {}
      },
      "source": [
        "model.add(Flatten())   # 前面已建立池化層2，共36個7x7影響，轉換為1維向量，共36*7*7=1764個數字，對應到1764個神經元，故不用輸入input"
      ],
      "execution_count": 0,
      "outputs": []
    },
    {
      "cell_type": "markdown",
      "metadata": {
        "id": "9k2-ozRx0LuP",
        "colab_type": "text"
      },
      "source": [
        "* 建立隱藏層"
      ]
    },
    {
      "cell_type": "code",
      "metadata": {
        "id": "Rqv8ECKi0N9W",
        "colab_type": "code",
        "colab": {}
      },
      "source": [
        "model.add(Dense(128, activation='relu'))   # 隱藏層共128個神經元"
      ],
      "execution_count": 0,
      "outputs": []
    },
    {
      "cell_type": "code",
      "metadata": {
        "id": "k3fBjwvk23-C",
        "colab_type": "code",
        "colab": {}
      },
      "source": [
        "model.add(Dropout(0.5))"
      ],
      "execution_count": 0,
      "outputs": []
    },
    {
      "cell_type": "markdown",
      "metadata": {
        "id": "FTw2GlBP0uYI",
        "colab_type": "text"
      },
      "source": [
        "* 建立輸出層"
      ]
    },
    {
      "cell_type": "code",
      "metadata": {
        "id": "07L-BHGp0w83",
        "colab_type": "code",
        "colab": {}
      },
      "source": [
        "model.add(Dense(10, activation='softmax'))   # 輸出層共10個神經元"
      ],
      "execution_count": 0,
      "outputs": []
    },
    {
      "cell_type": "markdown",
      "metadata": {
        "id": "n1ROjmGy06T6",
        "colab_type": "text"
      },
      "source": [
        "#### STEP4. 查看模型摘要"
      ]
    },
    {
      "cell_type": "code",
      "metadata": {
        "id": "mqd2EDQc3GR4",
        "colab_type": "code",
        "outputId": "364d301e-fdd2-4ae9-c3aa-6bdf87bf0ff3",
        "colab": {
          "base_uri": "https://localhost:8080/",
          "height": 454
        }
      },
      "source": [
        "print(model.summary())"
      ],
      "execution_count": 0,
      "outputs": [
        {
          "output_type": "stream",
          "text": [
            "_________________________________________________________________\n",
            "Layer (type)                 Output Shape              Param #   \n",
            "=================================================================\n",
            "conv2d_5 (Conv2D)            (None, 28, 28, 16)        416       \n",
            "_________________________________________________________________\n",
            "max_pooling2d_5 (MaxPooling2 (None, 14, 14, 16)        0         \n",
            "_________________________________________________________________\n",
            "conv2d_6 (Conv2D)            (None, 14, 14, 36)        14436     \n",
            "_________________________________________________________________\n",
            "max_pooling2d_6 (MaxPooling2 (None, 7, 7, 36)          0         \n",
            "_________________________________________________________________\n",
            "dropout_4 (Dropout)          (None, 7, 7, 36)          0         \n",
            "_________________________________________________________________\n",
            "flatten_3 (Flatten)          (None, 1764)              0         \n",
            "_________________________________________________________________\n",
            "dense_5 (Dense)              (None, 128)               225920    \n",
            "_________________________________________________________________\n",
            "dropout_5 (Dropout)          (None, 128)               0         \n",
            "_________________________________________________________________\n",
            "dense_6 (Dense)              (None, 10)                1290      \n",
            "=================================================================\n",
            "Total params: 242,062\n",
            "Trainable params: 242,062\n",
            "Non-trainable params: 0\n",
            "_________________________________________________________________\n",
            "None\n"
          ],
          "name": "stdout"
        }
      ]
    },
    {
      "cell_type": "markdown",
      "metadata": {
        "id": "y2JyOYt63KZZ",
        "colab_type": "text"
      },
      "source": [
        "### 進行模型訓練"
      ]
    },
    {
      "cell_type": "markdown",
      "metadata": {
        "id": "WFp6vhtN3Yeg",
        "colab_type": "text"
      },
      "source": [
        "#### STEP1. 定義訓練方式"
      ]
    },
    {
      "cell_type": "markdown",
      "metadata": {
        "id": "uWKTh2AA3cEg",
        "colab_type": "text"
      },
      "source": [
        "* 使用compile方法對訓練模型進行設定"
      ]
    },
    {
      "cell_type": "code",
      "metadata": {
        "id": "8YRAfrjy3mSK",
        "colab_type": "code",
        "colab": {}
      },
      "source": [
        "model.compile(loss = 'categorical_crossentropy',   # 設定損失函數\n",
        "              optimizer = 'adam',                  # 設定訓練的最優化方法，深度學習中使用adam最優化方法，可以讓訓練更快收斂，並提高準確率\n",
        "              metrics = ['accuracy']               # 設定評估模型方式為accuracy準確率\n",
        "             )"
      ],
      "execution_count": 0,
      "outputs": []
    },
    {
      "cell_type": "markdown",
      "metadata": {
        "id": "X6fUi9qq4N-R",
        "colab_type": "text"
      },
      "source": [
        "#### STEP2. 開始訓練"
      ]
    },
    {
      "cell_type": "code",
      "metadata": {
        "id": "_0NsS7OZ4Rr5",
        "colab_type": "code",
        "outputId": "4aa9e12a-0edd-439a-d192-257be64bc711",
        "colab": {
          "base_uri": "https://localhost:8080/",
          "height": 370
        }
      },
      "source": [
        "train_history = model.fit(x = X_Train4D_Normalize,     \n",
        "                          y = y_Train_OneHotEncoding,\n",
        "                          validation_split = 0.2,      # 將20%作為驗證資料\n",
        "                          epochs = 10,                 # 訓練週期10次\n",
        "                          batch_size = 300,            # 每次訓練使用300筆資料\n",
        "                          verbose = 2                  # 顯示訓練過程\n",
        "                         )"
      ],
      "execution_count": 0,
      "outputs": [
        {
          "output_type": "stream",
          "text": [
            "Train on 48000 samples, validate on 12000 samples\n",
            "Epoch 1/10\n",
            " - 53s - loss: 0.4895 - acc: 0.8478 - val_loss: 0.0965 - val_acc: 0.9723\n",
            "Epoch 2/10\n",
            " - 53s - loss: 0.1403 - acc: 0.9584 - val_loss: 0.0636 - val_acc: 0.9803\n",
            "Epoch 3/10\n",
            " - 53s - loss: 0.1024 - acc: 0.9691 - val_loss: 0.0518 - val_acc: 0.9833\n",
            "Epoch 4/10\n",
            " - 53s - loss: 0.0836 - acc: 0.9757 - val_loss: 0.0461 - val_acc: 0.9860\n",
            "Epoch 5/10\n",
            " - 53s - loss: 0.0711 - acc: 0.9783 - val_loss: 0.0392 - val_acc: 0.9877\n",
            "Epoch 6/10\n",
            " - 53s - loss: 0.0638 - acc: 0.9811 - val_loss: 0.0389 - val_acc: 0.9891\n",
            "Epoch 7/10\n",
            " - 53s - loss: 0.0557 - acc: 0.9833 - val_loss: 0.0436 - val_acc: 0.9863\n",
            "Epoch 8/10\n",
            " - 53s - loss: 0.0509 - acc: 0.9843 - val_loss: 0.0349 - val_acc: 0.9902\n",
            "Epoch 9/10\n",
            " - 53s - loss: 0.0452 - acc: 0.9862 - val_loss: 0.0341 - val_acc: 0.9898\n",
            "Epoch 10/10\n",
            " - 53s - loss: 0.0419 - acc: 0.9873 - val_loss: 0.0335 - val_acc: 0.9903\n"
          ],
          "name": "stdout"
        }
      ]
    },
    {
      "cell_type": "markdown",
      "metadata": {
        "id": "EBJb9zx94ha5",
        "colab_type": "text"
      },
      "source": [
        "#### STEP3. 畫出accuracy執行結果與loss誤差執行結果"
      ]
    },
    {
      "cell_type": "markdown",
      "metadata": {
        "id": "Lir8URgJ7YYC",
        "colab_type": "text"
      },
      "source": [
        "* 先定義一個show_train_history視覺化曲線函式顯示訓練過程"
      ]
    },
    {
      "cell_type": "code",
      "metadata": {
        "id": "d9Emg0Mv7xeb",
        "colab_type": "code",
        "colab": {}
      },
      "source": [
        "def show_train_history(train_history, train, validation):\n",
        "  plt.plot(train_history.history[train])\n",
        "  plt.plot(train_history.history[validation])\n",
        "  plt.title('Train History')\n",
        "  plt.ylabel(train)\n",
        "  plt.xlabel('Epoch')\n",
        "  plt.legend(['train', 'validation'], loc = 'upper left')\n",
        "  plt.show()"
      ],
      "execution_count": 0,
      "outputs": []
    },
    {
      "cell_type": "markdown",
      "metadata": {
        "id": "ATN2JV7J8TrS",
        "colab_type": "text"
      },
      "source": [
        "* accuracy執行結果曲線"
      ]
    },
    {
      "cell_type": "code",
      "metadata": {
        "id": "kpSDWph38k57",
        "colab_type": "code",
        "outputId": "6fb622cd-20b4-482b-d8d3-a243f5996be5",
        "colab": {
          "base_uri": "https://localhost:8080/",
          "height": 295
        }
      },
      "source": [
        "show_train_history(train_history, 'acc', 'val_acc')"
      ],
      "execution_count": 0,
      "outputs": [
        {
          "output_type": "display_data",
          "data": {
            "image/png": "[encoded data removed]",
            "text/plain": [
              "<Figure size 432x288 with 1 Axes>"
            ]
          },
          "metadata": {
            "tags": []
          }
        }
      ]
    },
    {
      "cell_type": "markdown",
      "metadata": {
        "id": "SrTD6x4X8sfT",
        "colab_type": "text"
      },
      "source": [
        "* loss誤差執行結果"
      ]
    },
    {
      "cell_type": "code",
      "metadata": {
        "id": "4_2TLUVf8xli",
        "colab_type": "code",
        "outputId": "032f5178-932e-4e17-d3cd-5f9e03555d2b",
        "colab": {
          "base_uri": "https://localhost:8080/",
          "height": 295
        }
      },
      "source": [
        "show_train_history(train_history, 'loss', 'val_loss')"
      ],
      "execution_count": 0,
      "outputs": [
        {
          "output_type": "display_data",
          "data": {
            "image/png": "[encoded data removed]",
            "text/plain": [
              "<Figure size 432x288 with 1 Axes>"
            ]
          },
          "metadata": {
            "tags": []
          }
        }
      ]
    },
    {
      "cell_type": "markdown",
      "metadata": {
        "id": "atEONGY_9WuC",
        "colab_type": "text"
      },
      "source": [
        "#### STEP4. 評估模型準確率"
      ]
    },
    {
      "cell_type": "code",
      "metadata": {
        "id": "6Uz3VHJb9dzL",
        "colab_type": "code",
        "outputId": "48fb2d0b-56c0-42fe-8a2b-433a12ff5549",
        "colab": {
          "base_uri": "https://localhost:8080/",
          "height": 50
        }
      },
      "source": [
        "scores = model.evaluate(X_Test4D_Normalize, y_Test_OneHotEncoding)\n",
        "scores[1]"
      ],
      "execution_count": 0,
      "outputs": [
        {
          "output_type": "stream",
          "text": [
            "10000/10000 [==============================] - 4s 389us/step\n"
          ],
          "name": "stdout"
        },
        {
          "output_type": "execute_result",
          "data": {
            "text/plain": [
              "0.9916"
            ]
          },
          "metadata": {
            "tags": []
          },
          "execution_count": 63
        }
      ]
    },
    {
      "cell_type": "markdown",
      "metadata": {
        "id": "vhKBRkOY82U6",
        "colab_type": "text"
      },
      "source": [
        "* 小結1：根據訓練結果顯示在訓練後期，訓練與驗證很接近，表示沒有出現Overfitting現象。\n",
        "* 小結2：以測試資料評估準確率達99.16%"
      ]
    },
    {
      "cell_type": "markdown",
      "metadata": {
        "id": "BBI1vQpn9nZb",
        "colab_type": "text"
      },
      "source": [
        "### 進行預測"
      ]
    },
    {
      "cell_type": "markdown",
      "metadata": {
        "id": "YDwwPEFg9_r7",
        "colab_type": "text"
      },
      "source": [
        "#### STEP1. 進行預測"
      ]
    },
    {
      "cell_type": "code",
      "metadata": {
        "id": "kexDRVkM-GzS",
        "colab_type": "code",
        "colab": {}
      },
      "source": [
        "prediction = model.predict_classes(X_Test4D_Normalize)"
      ],
      "execution_count": 0,
      "outputs": []
    },
    {
      "cell_type": "markdown",
      "metadata": {
        "id": "p2J16pK2-N4z",
        "colab_type": "text"
      },
      "source": [
        "#### STEP2. 預測結果"
      ]
    },
    {
      "cell_type": "code",
      "metadata": {
        "id": "a4sl0kku-SDr",
        "colab_type": "code",
        "outputId": "40764442-ed36-45e5-c0ec-0358e79b03a9",
        "colab": {
          "base_uri": "https://localhost:8080/",
          "height": 34
        }
      },
      "source": [
        "prediction[:10]"
      ],
      "execution_count": 0,
      "outputs": [
        {
          "output_type": "execute_result",
          "data": {
            "text/plain": [
              "array([7, 2, 1, 0, 4, 1, 4, 9, 5, 9])"
            ]
          },
          "metadata": {
            "tags": []
          },
          "execution_count": 65
        }
      ]
    },
    {
      "cell_type": "markdown",
      "metadata": {
        "id": "xTDmXN6d-U_L",
        "colab_type": "text"
      },
      "source": [
        "#### STEP3.顯示前10筆預測結果影像"
      ]
    },
    {
      "cell_type": "markdown",
      "metadata": {
        "id": "74TC4q5L-fat",
        "colab_type": "text"
      },
      "source": [
        "* 先建立可以比較image影像與label值的函式plot_images_labels_prediction"
      ]
    },
    {
      "cell_type": "code",
      "metadata": {
        "id": "816uRyZ6-trk",
        "colab_type": "code",
        "colab": {}
      },
      "source": [
        "def plot_images_labels_prediction(images, labels, prediction, idx, num=10):\n",
        "  \n",
        "  fig = plt.gcf()\n",
        "  fig.set_size_inches(12, 14)\n",
        "  \n",
        "  if num>25:\n",
        "    num = 25\n",
        "  for i in range(0, num):\n",
        "    ax = plt.subplot(5, 5, 1+i)\n",
        "    ax.imshow(images[idx], cmap='gray')\n",
        "    title = 'label=' + str(labels[idx])\n",
        "    if len(prediction)>0:\n",
        "      title += ', predict='+ str(prediction[idx])\n",
        "    \n",
        "    ax.set_title(title, fontsize=10)\n",
        "    ax.set_xticks([])\n",
        "    ax.set_yticks([])\n",
        "  \n",
        "    idx += 1\n",
        "  \n",
        "  plt.show()"
      ],
      "execution_count": 0,
      "outputs": []
    },
    {
      "cell_type": "markdown",
      "metadata": {
        "id": "rMNxWuFa_2hL",
        "colab_type": "text"
      },
      "source": [
        "* 顯示前10筆預測結果"
      ]
    },
    {
      "cell_type": "code",
      "metadata": {
        "id": "xvHEKl0v_-Lb",
        "colab_type": "code",
        "outputId": "dfbbe716-614a-4db1-c97d-e5030ad6c794",
        "colab": {
          "base_uri": "https://localhost:8080/",
          "height": 321
        }
      },
      "source": [
        "plot_images_labels_prediction(X_test, y_test, prediction, idx=0)"
      ],
      "execution_count": 0,
      "outputs": [
        {
          "output_type": "display_data",
          "data": {
            "image/png": "[encoded data removed]",
            "text/plain": [
              "<Figure size 864x1008 with 10 Axes>"
            ]
          },
          "metadata": {
            "tags": []
          }
        }
      ]
    },
    {
      "cell_type": "markdown",
      "metadata": {
        "id": "-f8ibmi5AJed",
        "colab_type": "text"
      },
      "source": [
        "### 顯示混淆矩陣(Confusion matrix)"
      ]
    },
    {
      "cell_type": "markdown",
      "metadata": {
        "id": "6jG-Zc_KAxSz",
        "colab_type": "text"
      },
      "source": [
        "### STEP1. 使用pandas的crosstab建立混淆矩陣"
      ]
    },
    {
      "cell_type": "code",
      "metadata": {
        "id": "8lhV0v4JA4ED",
        "colab_type": "code",
        "outputId": "b9708c18-8962-40d2-e109-1afe7b2ab8c7",
        "colab": {
          "base_uri": "https://localhost:8080/",
          "height": 373
        }
      },
      "source": [
        "pd.crosstab(y_test, prediction, rownames=['label'], colnames=['predict'])"
      ],
      "execution_count": 0,
      "outputs": [
        {
          "output_type": "execute_result",
          "data": {
            "text/html": [
              "<div>\n",
              "<style scoped>\n",
              "    .dataframe tbody tr th:only-of-type {\n",
              "        vertical-align: middle;\n",
              "    }\n",
              "\n",
              "    .dataframe tbody tr th {\n",
              "        vertical-align: top;\n",
              "    }\n",
              "\n",
              "    .dataframe thead th {\n",
              "        text-align: right;\n",
              "    }\n",
              "</style>\n",
              "<table border=\"1\" class=\"dataframe\">\n",
              "  <thead>\n",
              "    <tr style=\"text-align: right;\">\n",
              "      <th>predict</th>\n",
              "      <th>0</th>\n",
              "      <th>1</th>\n",
              "      <th>2</th>\n",
              "      <th>3</th>\n",
              "      <th>4</th>\n",
              "      <th>5</th>\n",
              "      <th>6</th>\n",
              "      <th>7</th>\n",
              "      <th>8</th>\n",
              "      <th>9</th>\n",
              "    </tr>\n",
              "    <tr>\n",
              "      <th>label</th>\n",
              "      <th></th>\n",
              "      <th></th>\n",
              "      <th></th>\n",
              "      <th></th>\n",
              "      <th></th>\n",
              "      <th></th>\n",
              "      <th></th>\n",
              "      <th></th>\n",
              "      <th></th>\n",
              "      <th></th>\n",
              "    </tr>\n",
              "  </thead>\n",
              "  <tbody>\n",
              "    <tr>\n",
              "      <th>0</th>\n",
              "      <td>976</td>\n",
              "      <td>1</td>\n",
              "      <td>0</td>\n",
              "      <td>0</td>\n",
              "      <td>0</td>\n",
              "      <td>0</td>\n",
              "      <td>2</td>\n",
              "      <td>1</td>\n",
              "      <td>0</td>\n",
              "      <td>0</td>\n",
              "    </tr>\n",
              "    <tr>\n",
              "      <th>1</th>\n",
              "      <td>0</td>\n",
              "      <td>1133</td>\n",
              "      <td>1</td>\n",
              "      <td>0</td>\n",
              "      <td>0</td>\n",
              "      <td>1</td>\n",
              "      <td>0</td>\n",
              "      <td>0</td>\n",
              "      <td>0</td>\n",
              "      <td>0</td>\n",
              "    </tr>\n",
              "    <tr>\n",
              "      <th>2</th>\n",
              "      <td>2</td>\n",
              "      <td>1</td>\n",
              "      <td>1027</td>\n",
              "      <td>0</td>\n",
              "      <td>0</td>\n",
              "      <td>0</td>\n",
              "      <td>0</td>\n",
              "      <td>2</td>\n",
              "      <td>0</td>\n",
              "      <td>0</td>\n",
              "    </tr>\n",
              "    <tr>\n",
              "      <th>3</th>\n",
              "      <td>0</td>\n",
              "      <td>0</td>\n",
              "      <td>0</td>\n",
              "      <td>1002</td>\n",
              "      <td>0</td>\n",
              "      <td>3</td>\n",
              "      <td>0</td>\n",
              "      <td>3</td>\n",
              "      <td>2</td>\n",
              "      <td>0</td>\n",
              "    </tr>\n",
              "    <tr>\n",
              "      <th>4</th>\n",
              "      <td>0</td>\n",
              "      <td>0</td>\n",
              "      <td>0</td>\n",
              "      <td>0</td>\n",
              "      <td>977</td>\n",
              "      <td>0</td>\n",
              "      <td>1</td>\n",
              "      <td>0</td>\n",
              "      <td>1</td>\n",
              "      <td>3</td>\n",
              "    </tr>\n",
              "    <tr>\n",
              "      <th>5</th>\n",
              "      <td>1</td>\n",
              "      <td>0</td>\n",
              "      <td>0</td>\n",
              "      <td>4</td>\n",
              "      <td>0</td>\n",
              "      <td>884</td>\n",
              "      <td>2</td>\n",
              "      <td>1</td>\n",
              "      <td>0</td>\n",
              "      <td>0</td>\n",
              "    </tr>\n",
              "    <tr>\n",
              "      <th>6</th>\n",
              "      <td>5</td>\n",
              "      <td>2</td>\n",
              "      <td>0</td>\n",
              "      <td>0</td>\n",
              "      <td>2</td>\n",
              "      <td>1</td>\n",
              "      <td>948</td>\n",
              "      <td>0</td>\n",
              "      <td>0</td>\n",
              "      <td>0</td>\n",
              "    </tr>\n",
              "    <tr>\n",
              "      <th>7</th>\n",
              "      <td>0</td>\n",
              "      <td>2</td>\n",
              "      <td>3</td>\n",
              "      <td>1</td>\n",
              "      <td>0</td>\n",
              "      <td>0</td>\n",
              "      <td>0</td>\n",
              "      <td>1020</td>\n",
              "      <td>1</td>\n",
              "      <td>1</td>\n",
              "    </tr>\n",
              "    <tr>\n",
              "      <th>8</th>\n",
              "      <td>2</td>\n",
              "      <td>0</td>\n",
              "      <td>4</td>\n",
              "      <td>2</td>\n",
              "      <td>1</td>\n",
              "      <td>1</td>\n",
              "      <td>0</td>\n",
              "      <td>2</td>\n",
              "      <td>957</td>\n",
              "      <td>5</td>\n",
              "    </tr>\n",
              "    <tr>\n",
              "      <th>9</th>\n",
              "      <td>1</td>\n",
              "      <td>3</td>\n",
              "      <td>0</td>\n",
              "      <td>2</td>\n",
              "      <td>5</td>\n",
              "      <td>2</td>\n",
              "      <td>0</td>\n",
              "      <td>4</td>\n",
              "      <td>0</td>\n",
              "      <td>992</td>\n",
              "    </tr>\n",
              "  </tbody>\n",
              "</table>\n",
              "</div>"
            ],
            "text/plain": [
              "predict    0     1     2     3    4    5    6     7    8    9\n",
              "label                                                        \n",
              "0        976     1     0     0    0    0    2     1    0    0\n",
              "1          0  1133     1     0    0    1    0     0    0    0\n",
              "2          2     1  1027     0    0    0    0     2    0    0\n",
              "3          0     0     0  1002    0    3    0     3    2    0\n",
              "4          0     0     0     0  977    0    1     0    1    3\n",
              "5          1     0     0     4    0  884    2     1    0    0\n",
              "6          5     2     0     0    2    1  948     0    0    0\n",
              "7          0     2     3     1    0    0    0  1020    1    1\n",
              "8          2     0     4     2    1    1    0     2  957    5\n",
              "9          1     3     0     2    5    2    0     4    0  992"
            ]
          },
          "metadata": {
            "tags": []
          },
          "execution_count": 72
        }
      ]
    },
    {
      "cell_type": "markdown",
      "metadata": {
        "id": "1Fe5rkCEBENN",
        "colab_type": "text"
      },
      "source": [
        "* 小結：比較MLP，CNN訓練的模型對於手寫數字辨識的能力更強，在真實值與預測值不同的項目中，有誤差的數量較少，模型能力也較強"
      ]
    },
    {
      "cell_type": "code",
      "metadata": {
        "id": "ajvFfFssBaoc",
        "colab_type": "code",
        "colab": {}
      },
      "source": [
        ""
      ],
      "execution_count": 0,
      "outputs": []
    }
  ]
}