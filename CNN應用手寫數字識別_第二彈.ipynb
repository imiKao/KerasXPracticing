{
 "cells": [
  {
   "cell_type": "code",
   "execution_count": 2,
   "metadata": {},
   "outputs": [],
   "source": [
    "import numpy as np\n",
    "from keras.datasets import mnist\n",
    "from keras.utils import np_utils\n",
    "from keras.models import Sequential\n",
    "from keras.layers import Dense, Dropout, Convolution2D, MaxPooling2D, Flatten\n",
    "from keras.optimizers import Adam"
   ]
  },
  {
   "cell_type": "markdown",
   "metadata": {},
   "source": [
    "### 1_載入數據"
   ]
  },
  {
   "cell_type": "code",
   "execution_count": 3,
   "metadata": {},
   "outputs": [],
   "source": [
    "(x_train, y_train), (x_test, y_test) = mnist.load_data()"
   ]
  },
  {
   "cell_type": "code",
   "execution_count": 4,
   "metadata": {},
   "outputs": [
    {
     "name": "stdout",
     "output_type": "stream",
     "text": [
      "x_shape:  (60000, 28, 28)\n",
      "y_shape:  (60000,)\n"
     ]
    }
   ],
   "source": [
    "print('x_shape: ', x_train.shape)\n",
    "print('y_shape: ', y_train.shape)"
   ]
  },
  {
   "cell_type": "markdown",
   "metadata": {},
   "source": [
    "### 2_數據集處理"
   ]
  },
  {
   "cell_type": "code",
   "execution_count": 7,
   "metadata": {},
   "outputs": [],
   "source": [
    "# (60000, 28, 28) -> (60000, 28, 28, 1)  # 轉成四維格式\n",
    "x_Train = x_train.reshape(-1, 28, 28, 1) / 255.0   # (data筆數, 長, 寬, 1(黑白圖片))\n",
    "x_Test = x_test.reshape(-1, 28, 28, 1) / 255.0 "
   ]
  },
  {
   "cell_type": "code",
   "execution_count": 8,
   "metadata": {},
   "outputs": [],
   "source": [
    "# 對label轉成one-hot\n",
    "y_Train_onehot = np_utils.to_categorical(y_train, num_classes=10)\n",
    "y_Test_onehot = np_utils.to_categorical(y_test, num_classes=10)"
   ]
  },
  {
   "cell_type": "markdown",
   "metadata": {},
   "source": [
    "### 3-1_創建模型"
   ]
  },
  {
   "cell_type": "code",
   "execution_count": 10,
   "metadata": {},
   "outputs": [],
   "source": [
    "# 定義順序模型\n",
    "model = Sequential()\n",
    "\n",
    "# 開始加層別\n",
    "# 第一層卷積層(Convolution Layer)   # (28,28,1)\n",
    "model.add(Convolution2D(\n",
    "    input_shape=(28,28,1),\n",
    "    filters=32,  # 32個filter\n",
    "    kernel_size=5,  # filter的大小:5*5\n",
    "    strides=1,  #步長\n",
    "    padding='same',\n",
    "    activation='relu'\n",
    "))\n",
    "\n",
    "# 第一層池化層(Pooling Layer) # (14,14,32)\n",
    "model.add(MaxPooling2D(\n",
    "    pool_size=2,\n",
    "    strides=2,\n",
    "    padding='same'\n",
    "))\n",
    "\n",
    "# 第二層卷積層   # (14,14,64)\n",
    "model.add(Convolution2D(64, 5, strides=1, padding='same', activation='relu'))  \n",
    "\n",
    "# 第二層池化層   # (7,7,64)\n",
    "model.add(MaxPooling2D(2,2,'same'))\n",
    "\n",
    "# 將第二層池化層的輸出扁平化為1維  # (7,7,64) -> (7*7*64)  為了當下一層FC的輸入\n",
    "model.add(Flatten())\n",
    "\n",
    "# 第一個全連接層(Fully Connected)\n",
    "model.add(Dense(1024, activation='relu'))   # 輸入維度:7*7*64 -> 輸出維度:1024\n",
    "\n",
    "# Dropout\n",
    "model.add(Dropout(0.5))\n",
    "\n",
    "# 第二個全連接層\n",
    "model.add(Dense(10, activation='softmax'))   # 輸入維度:1024 -> 輸出維度:10(手寫數字0~9)\n"
   ]
  },
  {
   "cell_type": "code",
   "execution_count": 11,
   "metadata": {},
   "outputs": [],
   "source": [
    "# 定義優化器，loss function, 並在訓練過程中計算準確率\n",
    "adam = Adam(learning_rate=1e-4)\n",
    "\n",
    "# 編譯\n",
    "model.compile(\n",
    "    optimizer = adam,\n",
    "    loss = 'categorical_crossentropy',   # 此處只改loss function為交叉熵\n",
    "    metrics = ['accuracy']\n",
    ")"
   ]
  },
  {
   "cell_type": "markdown",
   "metadata": {},
   "source": [
    "### 3-2 訓練模型"
   ]
  },
  {
   "cell_type": "code",
   "execution_count": 12,
   "metadata": {},
   "outputs": [
    {
     "name": "stdout",
     "output_type": "stream",
     "text": [
      "Epoch 1/10\n",
      "60000/60000 [==============================] - 138s 2ms/step - loss: 0.3468 - accuracy: 0.9000\n",
      "Epoch 2/10\n",
      "60000/60000 [==============================] - 137s 2ms/step - loss: 0.0966 - accuracy: 0.9707\n",
      "Epoch 3/10\n",
      "60000/60000 [==============================] - 138s 2ms/step - loss: 0.0648 - accuracy: 0.9807\n",
      "Epoch 4/10\n",
      "60000/60000 [==============================] - 144s 2ms/step - loss: 0.0512 - accuracy: 0.9843\n",
      "Epoch 5/10\n",
      "60000/60000 [==============================] - 145s 2ms/step - loss: 0.0431 - accuracy: 0.9867\n",
      "Epoch 6/10\n",
      "60000/60000 [==============================] - 140s 2ms/step - loss: 0.0360 - accuracy: 0.9888\n",
      "Epoch 7/10\n",
      "60000/60000 [==============================] - 132s 2ms/step - loss: 0.0309 - accuracy: 0.99041s - loss: 0.0\n",
      "Epoch 8/10\n",
      "60000/60000 [==============================] - 133s 2ms/step - loss: 0.0281 - accuracy: 0.9911\n",
      "Epoch 9/10\n",
      "60000/60000 [==============================] - 134s 2ms/step - loss: 0.0239 - accuracy: 0.9921\n",
      "Epoch 10/10\n",
      "60000/60000 [==============================] - 133s 2ms/step - loss: 0.0209 - accuracy: 0.9935\n"
     ]
    },
    {
     "data": {
      "text/plain": [
       "<keras.callbacks.callbacks.History at 0x28433e02390>"
      ]
     },
     "execution_count": 12,
     "metadata": {},
     "output_type": "execute_result"
    }
   ],
   "source": [
    "model.fit(x_Train, y_Train_onehot, batch_size=64, epochs=10)"
   ]
  },
  {
   "cell_type": "markdown",
   "metadata": {},
   "source": [
    "### 3-3_評估模型"
   ]
  },
  {
   "cell_type": "code",
   "execution_count": 13,
   "metadata": {},
   "outputs": [
    {
     "name": "stdout",
     "output_type": "stream",
     "text": [
      "10000/10000 [==============================] - 4s 411us/step\n",
      "\n",
      "test loss:  0.023133614263590424\n",
      "accuracy:  0.9919999837875366\n"
     ]
    }
   ],
   "source": [
    "loss, accuracy = model.evaluate(x_Test, y_Test_onehot)\n",
    "\n",
    "print('\\ntest loss: ', loss)\n",
    "print('accuracy: ', accuracy)"
   ]
  },
  {
   "cell_type": "markdown",
   "metadata": {},
   "source": [
    "### 小結：\n",
    "* 使用了卷積神經網絡模型後，準確率大大提升至99%。"
   ]
  },
  {
   "cell_type": "code",
   "execution_count": null,
   "metadata": {},
   "outputs": [],
   "source": []
  }
 ],
 "metadata": {
  "kernelspec": {
   "display_name": "Python 3",
   "language": "python",
   "name": "python3"
  },
  "language_info": {
   "codemirror_mode": {
    "name": "ipython",
    "version": 3
   },
   "file_extension": ".py",
   "mimetype": "text/x-python",
   "name": "python",
   "nbconvert_exporter": "python",
   "pygments_lexer": "ipython3",
   "version": "3.6.8"
  }
 },
 "nbformat": 4,
 "nbformat_minor": 2
}
