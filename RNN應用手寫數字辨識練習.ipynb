{
 "cells": [
  {
   "cell_type": "code",
   "execution_count": 14,
   "metadata": {},
   "outputs": [],
   "source": [
    "import numpy as np\n",
    "from keras.datasets import mnist\n",
    "from keras.utils import np_utils\n",
    "from keras.models import Sequential\n",
    "from keras.layers import Dense\n",
    "from keras.layers.recurrent import SimpleRNN, LSTM, GRU\n",
    "from keras.optimizers import Adam"
   ]
  },
  {
   "cell_type": "markdown",
   "metadata": {},
   "source": [
    "### 使用RNN前的定義"
   ]
  },
  {
   "cell_type": "code",
   "execution_count": 2,
   "metadata": {},
   "outputs": [],
   "source": [
    "# 將28*28的圖像看作是序列(共28序列，每行序列有28個(長度))\n",
    "# 數據長度:一行有28個像素\n",
    "input_size = 28\n",
    "# 序列長度:一共有28行\n",
    "time_steps = 28\n",
    "# 隱藏層cell個數(RNN藉由每個RNN的cell連結成一長鏈)\n",
    "cell_size = 50"
   ]
  },
  {
   "cell_type": "markdown",
   "metadata": {},
   "source": [
    "### 1_載入數據"
   ]
  },
  {
   "cell_type": "code",
   "execution_count": 3,
   "metadata": {},
   "outputs": [],
   "source": [
    "(x_train, y_train), (x_test, y_test) = mnist.load_data()"
   ]
  },
  {
   "cell_type": "code",
   "execution_count": 4,
   "metadata": {},
   "outputs": [
    {
     "name": "stdout",
     "output_type": "stream",
     "text": [
      "x_shape:  (60000, 28, 28)\n",
      "y_shape:  (60000,)\n"
     ]
    }
   ],
   "source": [
    "print('x_shape: ', x_train.shape)\n",
    "print('y_shape: ', y_train.shape)"
   ]
  },
  {
   "cell_type": "markdown",
   "metadata": {},
   "source": [
    "### 2_數據集處理"
   ]
  },
  {
   "cell_type": "code",
   "execution_count": 5,
   "metadata": {},
   "outputs": [],
   "source": [
    "# (60000, 28, 28)剛好符合RNN的數據型態需求 => (data筆數, 28行序列(time_steps), 每行序列28個個數(input_size)\n",
    "x_Train = x_train / 255.0   \n",
    "x_Test = x_test / 255.0 "
   ]
  },
  {
   "cell_type": "code",
   "execution_count": 6,
   "metadata": {},
   "outputs": [],
   "source": [
    "# 對label轉成one-hot\n",
    "y_Train_onehot = np_utils.to_categorical(y_train, num_classes=10)\n",
    "y_Test_onehot = np_utils.to_categorical(y_test, num_classes=10)"
   ]
  },
  {
   "cell_type": "markdown",
   "metadata": {},
   "source": [
    "### 3-1_創建模型"
   ]
  },
  {
   "cell_type": "code",
   "execution_count": 7,
   "metadata": {},
   "outputs": [],
   "source": [
    "# 創建順序模型\n",
    "model = Sequential()\n",
    "\n",
    "# 循環神經網路(RNN, Recurrent Neural Network)\n",
    "model.add(SimpleRNN(\n",
    "    units=cell_size, # 輸出層(這裡指隱藏層個數)，共50個cell\n",
    "    input_shape=(time_steps, input_size)  # 輸入\n",
    "))\n",
    "\n",
    "# 輸出層\n",
    "model.add(Dense(10, activation='softmax'))"
   ]
  },
  {
   "cell_type": "code",
   "execution_count": 8,
   "metadata": {},
   "outputs": [],
   "source": [
    "# 定義優化器，loss function, 並在訓練過程中計算準確率\n",
    "adam = Adam(learning_rate=1e-4)\n",
    "\n",
    "# 編譯\n",
    "model.compile(\n",
    "    optimizer = adam,\n",
    "    loss = 'categorical_crossentropy',   # 此處只改loss function為交叉熵\n",
    "    metrics = ['accuracy']\n",
    ")"
   ]
  },
  {
   "cell_type": "markdown",
   "metadata": {},
   "source": [
    "### 3-2 訓練模型"
   ]
  },
  {
   "cell_type": "code",
   "execution_count": 9,
   "metadata": {},
   "outputs": [
    {
     "name": "stdout",
     "output_type": "stream",
     "text": [
      "Epoch 1/10\n",
      "60000/60000 [==============================] - 7s 122us/step - loss: 1.5197 - accuracy: 0.5003\n",
      "Epoch 2/10\n",
      "60000/60000 [==============================] - 8s 136us/step - loss: 0.8970 - accuracy: 0.7312\n",
      "Epoch 3/10\n",
      "60000/60000 [==============================] - 7s 124us/step - loss: 0.6848 - accuracy: 0.7988\n",
      "Epoch 4/10\n",
      "60000/60000 [==============================] - 7s 123us/step - loss: 0.5672 - accuracy: 0.8364\n",
      "Epoch 5/10\n",
      "60000/60000 [==============================] - 8s 127us/step - loss: 0.4894 - accuracy: 0.8605\n",
      "Epoch 6/10\n",
      "60000/60000 [==============================] - 7s 120us/step - loss: 0.4363 - accuracy: 0.8757\n",
      "Epoch 7/10\n",
      "60000/60000 [==============================] - 7s 123us/step - loss: 0.3977 - accuracy: 0.8874\n",
      "Epoch 8/10\n",
      "60000/60000 [==============================] - 7s 125us/step - loss: 0.3687 - accuracy: 0.8953\n",
      "Epoch 9/10\n",
      "60000/60000 [==============================] - 7s 123us/step - loss: 0.3457 - accuracy: 0.9014\n",
      "Epoch 10/10\n",
      "60000/60000 [==============================] - 7s 124us/step - loss: 0.3274 - accuracy: 0.9051\n"
     ]
    },
    {
     "data": {
      "text/plain": [
       "<keras.callbacks.callbacks.History at 0x282bfb13fd0>"
      ]
     },
     "execution_count": 9,
     "metadata": {},
     "output_type": "execute_result"
    }
   ],
   "source": [
    "model.fit(x_Train, y_Train_onehot, batch_size=64, epochs=10)"
   ]
  },
  {
   "cell_type": "markdown",
   "metadata": {},
   "source": [
    "### 3-3_評估模型"
   ]
  },
  {
   "cell_type": "code",
   "execution_count": 13,
   "metadata": {},
   "outputs": [
    {
     "name": "stdout",
     "output_type": "stream",
     "text": [
      "60000/60000 [==============================] - 4s 75us/step\n",
      "\n",
      "train loss:  0.323143792450428\n",
      "train accuracy:  0.9077000021934509\n",
      "\n",
      "\n",
      "10000/10000 [==============================] - 1s 76us/step\n",
      "\n",
      "test loss:  0.3298914443016052\n",
      "test accuracy:  0.9061999917030334\n"
     ]
    }
   ],
   "source": [
    "loss, accuracy = model.evaluate(x_Train, y_Train_onehot)\n",
    "print('\\ntrain loss: ', loss)\n",
    "print('train accuracy: ', accuracy)\n",
    "print('\\n')\n",
    "loss, accuracy = model.evaluate(x_Test, y_Test_onehot)\n",
    "print('\\ntest loss: ', loss)\n",
    "print('test accuracy: ', accuracy)"
   ]
  },
  {
   "cell_type": "markdown",
   "metadata": {},
   "source": [
    "### 小結：\n",
    "* Simple RNN使用在手寫辨識上面(在不調整任何參數情況下)準確率90.6%，算普通。"
   ]
  },
  {
   "cell_type": "markdown",
   "metadata": {},
   "source": [
    "----------------------"
   ]
  },
  {
   "cell_type": "markdown",
   "metadata": {},
   "source": [
    "## 試看看其他RNN模型1- GRU"
   ]
  },
  {
   "cell_type": "code",
   "execution_count": 16,
   "metadata": {},
   "outputs": [
    {
     "name": "stdout",
     "output_type": "stream",
     "text": [
      "Epoch 1/10\n",
      "60000/60000 [==============================] - 17s 279us/step - loss: 1.8386 - accuracy: 0.3730\n",
      "Epoch 2/10\n",
      "60000/60000 [==============================] - 19s 315us/step - loss: 0.9576 - accuracy: 0.6925\n",
      "Epoch 3/10\n",
      "60000/60000 [==============================] - 18s 306us/step - loss: 0.7396 - accuracy: 0.7621\n",
      "Epoch 4/10\n",
      "60000/60000 [==============================] - 19s 319us/step - loss: 0.5741 - accuracy: 0.8250\n",
      "Epoch 5/10\n",
      "60000/60000 [==============================] - 18s 300us/step - loss: 0.4616 - accuracy: 0.8645\n",
      "Epoch 6/10\n",
      "60000/60000 [==============================] - 18s 306us/step - loss: 0.3864 - accuracy: 0.8893\n",
      "Epoch 7/10\n",
      "60000/60000 [==============================] - 20s 329us/step - loss: 0.3356 - accuracy: 0.9046\n",
      "Epoch 8/10\n",
      "60000/60000 [==============================] - 20s 326us/step - loss: 0.3000 - accuracy: 0.9143\n",
      "Epoch 9/10\n",
      "60000/60000 [==============================] - 18s 295us/step - loss: 0.2731 - accuracy: 0.9212\n",
      "Epoch 10/10\n",
      "60000/60000 [==============================] - 18s 307us/step - loss: 0.2529 - accuracy: 0.9267\n",
      "60000/60000 [==============================] - 8s 140us/step\n",
      "\n",
      "train loss:  0.23969601511657238\n",
      "train accuracy:  0.9307500123977661\n",
      "\n",
      "\n",
      "10000/10000 [==============================] - 1s 132us/step\n",
      "\n",
      "test loss:  0.23448606851100923\n",
      "test accuracy:  0.9334999918937683\n"
     ]
    }
   ],
   "source": [
    "# 將28*28的圖像看作是序列(共28序列，每行序列有28個(長度))\n",
    "# 數據長度:一行有28個像素\n",
    "input_size = 28\n",
    "# 序列長度:一共有28行\n",
    "time_steps = 28\n",
    "# 隱藏層cell個數(RNN藉由每個RNN的cell連結成一長鏈)\n",
    "cell_size = 50\n",
    "\n",
    "# 載入數據集\n",
    "(x_train, y_train), (x_test, y_test) = mnist.load_data()\n",
    "\n",
    "# 調整資料型態\n",
    "# 歸一化\n",
    "x_Train = x_train / 255.0   \n",
    "x_Test = x_test / 255.0 \n",
    "# 對label轉成one-hot\n",
    "y_Train_onehot = np_utils.to_categorical(y_train, num_classes=10)\n",
    "y_Test_onehot = np_utils.to_categorical(y_test, num_classes=10)\n",
    "\n",
    "# 創建順序模型\n",
    "model_GRU = Sequential()\n",
    "# 循環神經網路(RNN, Recurrent Neural Network)\n",
    "model_GRU.add(GRU(\n",
    "    units=cell_size, # 輸出層(這裡指隱藏層個數)，共50個cell\n",
    "    input_shape=(time_steps, input_size)  # 輸入\n",
    "))\n",
    "# 輸出層\n",
    "model_GRU.add(Dense(10, activation='softmax'))\n",
    "\n",
    "# 定義優化器，loss function, 並在訓練過程中計算準確率\n",
    "adam = Adam(learning_rate=1e-4)\n",
    "\n",
    "# 編譯\n",
    "model_GRU.compile(\n",
    "    optimizer = adam,\n",
    "    loss = 'categorical_crossentropy',   # 此處只改loss function為交叉熵\n",
    "    metrics = ['accuracy']\n",
    ")\n",
    "\n",
    "# 訓練模型\n",
    "model_GRU.fit(x_Train, y_Train_onehot, batch_size=64, epochs=10)\n",
    "\n",
    "# 評估模型\n",
    "loss, accuracy = model_GRU.evaluate(x_Train, y_Train_onehot)\n",
    "print('\\ntrain loss: ', loss)\n",
    "print('train accuracy: ', accuracy)\n",
    "print('\\n')\n",
    "loss, accuracy = model_GRU.evaluate(x_Test, y_Test_onehot)\n",
    "print('\\ntest loss: ', loss)\n",
    "print('test accuracy: ', accuracy)"
   ]
  },
  {
   "cell_type": "markdown",
   "metadata": {},
   "source": [
    "-----------"
   ]
  },
  {
   "cell_type": "markdown",
   "metadata": {},
   "source": [
    "## 試看看其他RNN模型2- LSTM"
   ]
  },
  {
   "cell_type": "code",
   "execution_count": 17,
   "metadata": {},
   "outputs": [
    {
     "name": "stdout",
     "output_type": "stream",
     "text": [
      "Epoch 1/10\n",
      "60000/60000 [==============================] - 17s 276us/step - loss: 1.5537 - accuracy: 0.4921\n",
      "Epoch 2/10\n",
      "60000/60000 [==============================] - 17s 287us/step - loss: 0.7236 - accuracy: 0.7847\n",
      "Epoch 3/10\n",
      "60000/60000 [==============================] - 17s 288us/step - loss: 0.5096 - accuracy: 0.8484\n",
      "Epoch 4/10\n",
      "60000/60000 [==============================] - 18s 295us/step - loss: 0.4035 - accuracy: 0.8808\n",
      "Epoch 5/10\n",
      "60000/60000 [==============================] - 17s 288us/step - loss: 0.3374 - accuracy: 0.9000\n",
      "Epoch 6/10\n",
      "60000/60000 [==============================] - 18s 304us/step - loss: 0.2893 - accuracy: 0.9155\n",
      "Epoch 7/10\n",
      "60000/60000 [==============================] - 18s 308us/step - loss: 0.2553 - accuracy: 0.9252\n",
      "Epoch 8/10\n",
      "60000/60000 [==============================] - 19s 311us/step - loss: 0.2305 - accuracy: 0.9323\n",
      "Epoch 9/10\n",
      "60000/60000 [==============================] - 18s 293us/step - loss: 0.2118 - accuracy: 0.9370\n",
      "Epoch 10/10\n",
      "60000/60000 [==============================] - 17s 287us/step - loss: 0.1968 - accuracy: 0.9421\n",
      "60000/60000 [==============================] - 10s 162us/step\n",
      "\n",
      "train loss:  0.18974026219397783\n",
      "train accuracy:  0.9444000124931335\n",
      "\n",
      "\n",
      "10000/10000 [==============================] - 2s 154us/step\n",
      "\n",
      "test loss:  0.19127170532345772\n",
      "test accuracy:  0.9434000253677368\n"
     ]
    }
   ],
   "source": [
    "# 將28*28的圖像看作是序列(共28序列，每行序列有28個(長度))\n",
    "# 數據長度:一行有28個像素\n",
    "input_size = 28\n",
    "# 序列長度:一共有28行\n",
    "time_steps = 28\n",
    "# 隱藏層cell個數(RNN藉由每個RNN的cell連結成一長鏈)\n",
    "cell_size = 50\n",
    "\n",
    "# 載入數據集\n",
    "(x_train, y_train), (x_test, y_test) = mnist.load_data()\n",
    "\n",
    "# 調整資料型態\n",
    "# 歸一化\n",
    "x_Train = x_train / 255.0   \n",
    "x_Test = x_test / 255.0 \n",
    "# 對label轉成one-hot\n",
    "y_Train_onehot = np_utils.to_categorical(y_train, num_classes=10)\n",
    "y_Test_onehot = np_utils.to_categorical(y_test, num_classes=10)\n",
    "\n",
    "# 創建順序模型\n",
    "model_LSTM = Sequential()\n",
    "# 循環神經網路(RNN, Recurrent Neural Network)\n",
    "model_LSTM.add(LSTM(\n",
    "    units=cell_size, # 輸出層(這裡指隱藏層個數)，共50個cell\n",
    "    input_shape=(time_steps, input_size)  # 輸入\n",
    "))\n",
    "# 輸出層\n",
    "model_LSTM.add(Dense(10, activation='softmax'))\n",
    "\n",
    "# 定義優化器，loss function, 並在訓練過程中計算準確率\n",
    "adam = Adam(learning_rate=1e-4)\n",
    "\n",
    "# 編譯\n",
    "model_LSTM.compile(\n",
    "    optimizer = adam,\n",
    "    loss = 'categorical_crossentropy',   # 此處只改loss function為交叉熵\n",
    "    metrics = ['accuracy']\n",
    ")\n",
    "\n",
    "# 訓練模型\n",
    "model_LSTM.fit(x_Train, y_Train_onehot, batch_size=64, epochs=10)\n",
    "\n",
    "# 評估模型\n",
    "loss, accuracy = model_LSTM.evaluate(x_Train, y_Train_onehot)\n",
    "print('\\ntrain loss: ', loss)\n",
    "print('train accuracy: ', accuracy)\n",
    "print('\\n')\n",
    "loss, accuracy = model_LSTM.evaluate(x_Test, y_Test_onehot)\n",
    "print('\\ntest loss: ', loss)\n",
    "print('test accuracy: ', accuracy)"
   ]
  },
  {
   "cell_type": "markdown",
   "metadata": {},
   "source": [
    "### 小結2:\n",
    "* 在不調整其他參數下，僅比較RNN中SimpleRNN、GRU以及LSTM模型，LSTM與GRU的準確度皆較SimpleRNN好。\n",
    "* LSTM與GRU引入了memory cell當作閘的概念，幫助前後神經網絡有記憶功能，較SimpleRNN更為強大。\n",
    "* RNN模型應用在圖像識別(如本例)效果較CNN差，一般還是以CNN應用於圖像方面的問題較為頻繁。"
   ]
  },
  {
   "cell_type": "code",
   "execution_count": null,
   "metadata": {},
   "outputs": [],
   "source": []
  }
 ],
 "metadata": {
  "kernelspec": {
   "display_name": "Python 3",
   "language": "python",
   "name": "python3"
  },
  "language_info": {
   "codemirror_mode": {
    "name": "ipython",
    "version": 3
   },
   "file_extension": ".py",
   "mimetype": "text/x-python",
   "name": "python",
   "nbconvert_exporter": "python",
   "pygments_lexer": "ipython3",
   "version": "3.6.8"
  }
 },
 "nbformat": 4,
 "nbformat_minor": 2
}
