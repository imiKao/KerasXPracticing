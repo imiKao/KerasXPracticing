{
  "nbformat": 4,
  "nbformat_minor": 0,
  "metadata": {
    "colab": {
      "name": "Mnist手寫數字辨識資料集練習",
      "version": "0.3.2",
      "provenance": [],
      "collapsed_sections": [
        "z73msr3TJW56",
        "1UkerbwiKsJd",
        "rpNa_taBQhNH",
        "rciOHC1jVhqK",
        "1JXwkUKJioUO",
        "bu-LIWLKmZvG",
        "8N1z_lJcm8uA",
        "rn50qDHtr891",
        "ToXGjpOKuN2Q",
        "z7V-a01avDVg",
        "b-lMw2pKvPbE",
        "bwQckkx1vsk8",
        "MnaCf860yGBs",
        "W6gw6B7Hy703",
        "dK2zj3q200bC",
        "c2w4gq3h2S9L",
        "3-YfDicG3QvP",
        "L2nLUf7T30Ra",
        "uUzjVfXX37bE",
        "MB1wjZUA7U4e",
        "449xAOBY7juq",
        "yCqYEjqo8WcT",
        "z3uwyrgI-r6o"
      ]
    },
    "kernelspec": {
      "name": "python3",
      "display_name": "Python 3"
    }
  },
  "cells": [
    {
      "cell_type": "code",
      "metadata": {
        "id": "9xXUxrodIpNe",
        "colab_type": "code",
        "colab": {}
      },
      "source": [
        "import numpy as np\n",
        "import pandas as pd\n",
        "from keras.utils import np_utils\n",
        "import matplotlib.pyplot as plt\n",
        "\n",
        "np.random.seed(10)"
      ],
      "execution_count": 0,
      "outputs": []
    },
    {
      "cell_type": "markdown",
      "metadata": {
        "id": "z73msr3TJW56",
        "colab_type": "text"
      },
      "source": [
        "### 匯入Mnist資料集"
      ]
    },
    {
      "cell_type": "code",
      "metadata": {
        "id": "laU2gC3LJhIe",
        "colab_type": "code",
        "colab": {}
      },
      "source": [
        "from keras.datasets import mnist"
      ],
      "execution_count": 0,
      "outputs": []
    },
    {
      "cell_type": "code",
      "metadata": {
        "id": "qCx6BEabJvhp",
        "colab_type": "code",
        "outputId": "60865f99-f9e1-419f-ef9d-0ead76b1fdad",
        "colab": {
          "base_uri": "https://localhost:8080/",
          "height": 52
        }
      },
      "source": [
        "(X_train_image, y_train_label), (X_test_image, y_test_label) = mnist.load_data()"
      ],
      "execution_count": 0,
      "outputs": [
        {
          "output_type": "stream",
          "text": [
            "Downloading data from https://s3.amazonaws.com/img-datasets/mnist.npz\n",
            "11493376/11490434 [==============================] - 1s 0us/step\n"
          ],
          "name": "stdout"
        }
      ]
    },
    {
      "cell_type": "markdown",
      "metadata": {
        "id": "UR8EWn08QkvL",
        "colab_type": "text"
      },
      "source": [
        "---"
      ]
    },
    {
      "cell_type": "markdown",
      "metadata": {
        "id": "1UkerbwiKsJd",
        "colab_type": "text"
      },
      "source": [
        "### 查看訓練資料"
      ]
    },
    {
      "cell_type": "code",
      "metadata": {
        "id": "xPeMwgxIJ_si",
        "colab_type": "code",
        "outputId": "2a7ad52f-2b9f-4ab7-f7fa-6d3ebc7e9c56",
        "colab": {
          "base_uri": "https://localhost:8080/",
          "height": 87
        }
      },
      "source": [
        "# 查看mnist資料\n",
        "print('train data=', len(X_train_image))\n",
        "print(' test data=', len(X_test_image))\n",
        "\n",
        "# 查看mnist訓練資料維度\n",
        "print('X_train data =', X_train_image.shape)\n",
        "print('y_train data =', y_train_label.shape)"
      ],
      "execution_count": 0,
      "outputs": [
        {
          "output_type": "stream",
          "text": [
            "train data= 60000\n",
            " test data= 10000\n",
            "X_train data = (60000, 28, 28)\n",
            "y_train data = (60000,)\n"
          ],
          "name": "stdout"
        }
      ]
    },
    {
      "cell_type": "markdown",
      "metadata": {
        "id": "J_JO2cCVMe-O",
        "colab_type": "text"
      },
      "source": [
        "* 為了顯示image圖像，先定義函數顯示圖像資料"
      ]
    },
    {
      "cell_type": "code",
      "metadata": {
        "id": "m1XuoyukKmAp",
        "colab_type": "code",
        "colab": {}
      },
      "source": [
        "def plot_image(image):\n",
        "  fig = plt.gcf()\n",
        "  fig.set_size_inches(2, 2)\n",
        "  plt.imshow(image, cmap='gray')\n",
        "  plt.show()"
      ],
      "execution_count": 0,
      "outputs": []
    },
    {
      "cell_type": "markdown",
      "metadata": {
        "id": "yM9FjEjQL75b",
        "colab_type": "text"
      },
      "source": [
        "* 執行觀察訓練集圖像"
      ]
    },
    {
      "cell_type": "code",
      "metadata": {
        "id": "UPhDK_xUMdCV",
        "colab_type": "code",
        "outputId": "4e21e959-abea-4c4e-d8c4-0bca3e459adc",
        "colab": {
          "base_uri": "https://localhost:8080/",
          "height": 195
        }
      },
      "source": [
        "print(y_train_label[0])\n",
        "print(plot_image(X_train_image[0]))"
      ],
      "execution_count": 0,
      "outputs": [
        {
          "output_type": "stream",
          "text": [
            "5\n"
          ],
          "name": "stdout"
        },
        {
          "output_type": "display_data",
          "data": {
            "image/png": "[encoded data removed]",
            "text/plain": [
              "<Figure size 144x144 with 1 Axes>"
            ]
          },
          "metadata": {
            "tags": []
          }
        },
        {
          "output_type": "stream",
          "text": [
            "None\n"
          ],
          "name": "stdout"
        }
      ]
    },
    {
      "cell_type": "markdown",
      "metadata": {
        "id": "JBpwDYObMpwH",
        "colab_type": "text"
      },
      "source": [
        "* 上面函數只能查看單個圖像，下面做一個可以查看多個圖像的函數，方便後面進行觀看X與y比較的結果"
      ]
    },
    {
      "cell_type": "code",
      "metadata": {
        "id": "Jt4TM0g_NKCC",
        "colab_type": "code",
        "colab": {}
      },
      "source": [
        "def plot_images_labels_prediction(images, labels, prediction, idx, num=10):\n",
        "  \n",
        "  fig = plt.gcf()\n",
        "  fig.set_size_inches(12, 14)\n",
        "  \n",
        "  if num>25:\n",
        "    num = 25\n",
        "  \n",
        "  for i in range(0, num):\n",
        "    ax = plt.subplot(5, 5, 1+i)\n",
        "    ax.imshow(images[idx], cmap='gray')\n",
        "    title = 'label=' + str(labels[idx])\n",
        "    if len(prediction) > 0:\n",
        "      title += ', predict=' + str(prediction[idx])\n",
        "    ax.set_title(title, fontsize=10)\n",
        "    ax.set_xticks([])\n",
        "    ax.set_yticks([])\n",
        "    idx += 1\n",
        "  \n",
        "  plt.show()"
      ],
      "execution_count": 0,
      "outputs": []
    },
    {
      "cell_type": "code",
      "metadata": {
        "id": "kVRmTxjVPAQn",
        "colab_type": "code",
        "outputId": "d1934a6b-87d9-4c74-f823-857319fad7d8",
        "colab": {
          "base_uri": "https://localhost:8080/",
          "height": 321
        }
      },
      "source": [
        "# 查看前10筆訓練資料\n",
        "plot_images_labels_prediction(X_train_image, y_train_label, [], 0, 10)"
      ],
      "execution_count": 0,
      "outputs": [
        {
          "output_type": "display_data",
          "data": {
            "image/png": "[encoded data removed]",
            "text/plain": [
              "<Figure size 864x1008 with 10 Axes>"
            ]
          },
          "metadata": {
            "tags": []
          }
        }
      ]
    },
    {
      "cell_type": "code",
      "metadata": {
        "id": "mPbHL9wQPgei",
        "colab_type": "code",
        "outputId": "39ff01da-d4a1-4d27-b256-db46c7ca4044",
        "colab": {
          "base_uri": "https://localhost:8080/",
          "height": 321
        }
      },
      "source": [
        "# 查看測試集前10筆資料\n",
        "plot_images_labels_prediction(X_test_image, y_test_label, [], 0, 10)"
      ],
      "execution_count": 0,
      "outputs": [
        {
          "output_type": "display_data",
          "data": {
            "image/png": "[encoded data removed]",
            "text/plain": [
              "<Figure size 864x1008 with 10 Axes>"
            ]
          },
          "metadata": {
            "tags": []
          }
        }
      ]
    },
    {
      "cell_type": "markdown",
      "metadata": {
        "id": "3VwsQlZlQZK9",
        "colab_type": "text"
      },
      "source": [
        "----"
      ]
    },
    {
      "cell_type": "markdown",
      "metadata": {
        "id": "rpNa_taBQhNH",
        "colab_type": "text"
      },
      "source": [
        "### 多層感知器資料預處理"
      ]
    },
    {
      "cell_type": "markdown",
      "metadata": {
        "id": "9Z_C3fZyQ2mQ",
        "colab_type": "text"
      },
      "source": [
        "* 因為要用多層感知器(multilayer perception)作為模型訓練資料，故需要先對資料的image與label做資料預處理"
      ]
    },
    {
      "cell_type": "markdown",
      "metadata": {
        "id": "0RggAz7VRNGy",
        "colab_type": "text"
      },
      "source": [
        "#### Features(image)資料預處理"
      ]
    },
    {
      "cell_type": "markdown",
      "metadata": {
        "id": "Z-cI_k2MRYBO",
        "colab_type": "text"
      },
      "source": [
        "* 要對Feature(數字影響特徵值)做兩步驟處理:\n",
        "1. 將原本28x28的影像以reshape轉換為一維的向量，並轉換型態為float\n",
        "2. 將數字影像image做標準化"
      ]
    },
    {
      "cell_type": "markdown",
      "metadata": {
        "id": "d26FcqUCSHRx",
        "colab_type": "text"
      },
      "source": [
        "* 查看image的shape"
      ]
    },
    {
      "cell_type": "code",
      "metadata": {
        "id": "hBe6udqiSUK4",
        "colab_type": "code",
        "outputId": "b104d4c3-42c8-42c0-9b40-139e4bb320f7",
        "colab": {
          "base_uri": "https://localhost:8080/",
          "height": 52
        }
      },
      "source": [
        "print('X_train_image:', X_train_image.shape)\n",
        "print('X_test_image:', X_test_image.shape)"
      ],
      "execution_count": 0,
      "outputs": [
        {
          "output_type": "stream",
          "text": [
            "X_train_image: (60000, 28, 28)\n",
            "X_test_image: (10000, 28, 28)\n"
          ],
          "name": "stdout"
        }
      ]
    },
    {
      "cell_type": "markdown",
      "metadata": {
        "id": "r-PjmOOBSvI6",
        "colab_type": "text"
      },
      "source": [
        "* 將image做reshape轉換"
      ]
    },
    {
      "cell_type": "code",
      "metadata": {
        "id": "NVCARfAQS4g7",
        "colab_type": "code",
        "colab": {}
      },
      "source": [
        "X_Train = X_train_image.reshape(60000, 28*28).astype('float32')\n",
        "X_Test = X_test_image.reshape(10000, 28*28).astype('float32')"
      ],
      "execution_count": 0,
      "outputs": []
    },
    {
      "cell_type": "markdown",
      "metadata": {
        "id": "X0qOGUsFTVrZ",
        "colab_type": "text"
      },
      "source": [
        "* 查看轉換為1維後的向量"
      ]
    },
    {
      "cell_type": "code",
      "metadata": {
        "id": "uqmRdNphTdHT",
        "colab_type": "code",
        "outputId": "e08ad1ed-d96d-4929-d822-9cdc395f5421",
        "colab": {
          "base_uri": "https://localhost:8080/",
          "height": 52
        }
      },
      "source": [
        "print('X_Train:', X_Train.shape)\n",
        "print('X_Test:', X_Test.shape)"
      ],
      "execution_count": 0,
      "outputs": [
        {
          "output_type": "stream",
          "text": [
            "X_Train: (60000, 784)\n",
            "X_Test: (10000, 784)\n"
          ],
          "name": "stdout"
        }
      ]
    },
    {
      "cell_type": "markdown",
      "metadata": {
        "id": "zGkKWGX0TkoQ",
        "colab_type": "text"
      },
      "source": [
        "* 對image做[0,1]正規化  →  目的：排除彼此間單位的不同或數據的極大落差"
      ]
    },
    {
      "cell_type": "code",
      "metadata": {
        "id": "VBCi3r1NTrZY",
        "colab_type": "code",
        "outputId": "c77fe470-4c80-4fb7-fba8-30a307deea29",
        "colab": {
          "base_uri": "https://localhost:8080/",
          "height": 34
        }
      },
      "source": [
        "# 確認最大數是多少?\n",
        "max(X_Train[0])"
      ],
      "execution_count": 0,
      "outputs": [
        {
          "output_type": "execute_result",
          "data": {
            "text/plain": [
              "255.0"
            ]
          },
          "metadata": {
            "tags": []
          },
          "execution_count": 33
        }
      ]
    },
    {
      "cell_type": "code",
      "metadata": {
        "id": "4NfVv9KNTuF8",
        "colab_type": "code",
        "colab": {}
      },
      "source": [
        "X_Train_Normalization = X_Train / 255\n",
        "X_Test_Normalization = X_Test / 255"
      ],
      "execution_count": 0,
      "outputs": []
    },
    {
      "cell_type": "markdown",
      "metadata": {
        "id": "rciOHC1jVhqK",
        "colab_type": "text"
      },
      "source": [
        "#### Label(數字影像真實值)資料預處理"
      ]
    },
    {
      "cell_type": "markdown",
      "metadata": {
        "id": "4iTkFdH_VspC",
        "colab_type": "text"
      },
      "source": [
        "* 數字0~9是一組有排序，有大小的分類組合，由於我們的目的是辨別圖像內的數字，故不需要有大小與排序的分類，只要單純的分類組合，因此需要做One-hot encoding編碼。"
      ]
    },
    {
      "cell_type": "markdown",
      "metadata": {
        "id": "C_6cTfZShZ8m",
        "colab_type": "text"
      },
      "source": [
        "* 查看原排列組合"
      ]
    },
    {
      "cell_type": "code",
      "metadata": {
        "id": "lSlDbngghgVE",
        "colab_type": "code",
        "outputId": "6a84dc5e-3776-472e-eb5d-aedf9ae1b52d",
        "colab": {
          "base_uri": "https://localhost:8080/",
          "height": 52
        }
      },
      "source": [
        "print(y_train_label[0:5])\n",
        "print(y_test_label[0:5])"
      ],
      "execution_count": 0,
      "outputs": [
        {
          "output_type": "stream",
          "text": [
            "[5 0 4 1 9]\n",
            "[7 2 1 0 4]\n"
          ],
          "name": "stdout"
        }
      ]
    },
    {
      "cell_type": "markdown",
      "metadata": {
        "id": "B7SXNboBhmCT",
        "colab_type": "text"
      },
      "source": [
        "* 做One-hot encoding編碼"
      ]
    },
    {
      "cell_type": "code",
      "metadata": {
        "id": "XmMct7PzhqVg",
        "colab_type": "code",
        "colab": {}
      },
      "source": [
        "y_Train_OneHotEncoding = np_utils.to_categorical(y_train_label)\n",
        "y_Test_OneHotEncoding = np_utils.to_categorical(y_test_label)"
      ],
      "execution_count": 0,
      "outputs": []
    },
    {
      "cell_type": "markdown",
      "metadata": {
        "id": "nQgnNwMXh8WA",
        "colab_type": "text"
      },
      "source": [
        "* 比較編碼前後的排列方式"
      ]
    },
    {
      "cell_type": "code",
      "metadata": {
        "id": "6wncV0mgiAlU",
        "colab_type": "code",
        "outputId": "32cdda31-2173-441a-8373-0d621fb3c566",
        "colab": {
          "base_uri": "https://localhost:8080/",
          "height": 228
        }
      },
      "source": [
        "print(y_train_label[:5])\n",
        "print(y_Train_OneHotEncoding[:5])\n",
        "\n",
        "print(y_test_label[:5])\n",
        "print(y_Test_OneHotEncoding[:5])\n"
      ],
      "execution_count": 0,
      "outputs": [
        {
          "output_type": "stream",
          "text": [
            "[5 0 4 1 9]\n",
            "[[0. 0. 0. 0. 0. 1. 0. 0. 0. 0.]\n",
            " [1. 0. 0. 0. 0. 0. 0. 0. 0. 0.]\n",
            " [0. 0. 0. 0. 1. 0. 0. 0. 0. 0.]\n",
            " [0. 1. 0. 0. 0. 0. 0. 0. 0. 0.]\n",
            " [0. 0. 0. 0. 0. 0. 0. 0. 0. 1.]]\n",
            "[7 2 1 0 4]\n",
            "[[0. 0. 0. 0. 0. 0. 0. 1. 0. 0.]\n",
            " [0. 0. 1. 0. 0. 0. 0. 0. 0. 0.]\n",
            " [0. 1. 0. 0. 0. 0. 0. 0. 0. 0.]\n",
            " [1. 0. 0. 0. 0. 0. 0. 0. 0. 0.]\n",
            " [0. 0. 0. 0. 1. 0. 0. 0. 0. 0.]]\n"
          ],
          "name": "stdout"
        }
      ]
    },
    {
      "cell_type": "markdown",
      "metadata": {
        "id": "wKu2KDuhiGX1",
        "colab_type": "text"
      },
      "source": [
        "---"
      ]
    },
    {
      "cell_type": "markdown",
      "metadata": {
        "id": "1JXwkUKJioUO",
        "colab_type": "text"
      },
      "source": [
        "### 建立MLP模型─多元感知器(MLP，Multilayer Perception)"
      ]
    },
    {
      "cell_type": "markdown",
      "metadata": {
        "id": "GwU7gfVIjB8Z",
        "colab_type": "text"
      },
      "source": [
        "* Step1. 匯入所需模組"
      ]
    },
    {
      "cell_type": "code",
      "metadata": {
        "id": "AV8E2GqrjR7c",
        "colab_type": "code",
        "colab": {}
      },
      "source": [
        "from keras.models import Sequential\n",
        "from keras.layers import Dense"
      ],
      "execution_count": 0,
      "outputs": []
    },
    {
      "cell_type": "markdown",
      "metadata": {
        "id": "ihEKTnPnjcCp",
        "colab_type": "text"
      },
      "source": [
        "* Step2. 建立Sequential模型"
      ]
    },
    {
      "cell_type": "code",
      "metadata": {
        "id": "BauhQk1rjmoA",
        "colab_type": "code",
        "colab": {}
      },
      "source": [
        "model = Sequential()"
      ],
      "execution_count": 0,
      "outputs": []
    },
    {
      "cell_type": "markdown",
      "metadata": {
        "id": "9uQefJ2sjpmw",
        "colab_type": "text"
      },
      "source": [
        "* Step3. 建立「輸入層」與「隱藏層」"
      ]
    },
    {
      "cell_type": "code",
      "metadata": {
        "id": "ibZJ8z5Sj_aq",
        "colab_type": "code",
        "colab": {}
      },
      "source": [
        "model.add(Dense(units = 256, # 定義隱藏層神經元個數256個 \n",
        "                input_dim = 784,  # 設定輸入層神經元784個\n",
        "                kernel_initializer = 'normal',  # 使用normal distribution常態分佈的亂數，初始化weight bias\n",
        "                activation = 'relu'  # 定義激活函數為relu\n",
        "               )\n",
        "         )"
      ],
      "execution_count": 0,
      "outputs": []
    },
    {
      "cell_type": "markdown",
      "metadata": {
        "id": "yGCuGartk6gh",
        "colab_type": "text"
      },
      "source": [
        "* Step4. 建立「輸出層」"
      ]
    },
    {
      "cell_type": "code",
      "metadata": {
        "id": "OPZjiSHNk_6w",
        "colab_type": "code",
        "colab": {}
      },
      "source": [
        "model.add(Dense(units = 10,  # 定義「輸出層」為10個(不用定義input，因為前面的隱藏層神經元256個已經定義好了)\n",
        "                kernel_initializer = 'normal',\n",
        "                activation = 'softmax'\n",
        "               )\n",
        "         )"
      ],
      "execution_count": 0,
      "outputs": []
    },
    {
      "cell_type": "markdown",
      "metadata": {
        "id": "M5oabn57lOfH",
        "colab_type": "text"
      },
      "source": [
        "* Step5. 查看模型摘要(確認建立的模型架構)"
      ]
    },
    {
      "cell_type": "code",
      "metadata": {
        "id": "7YOnPhRKlqj9",
        "colab_type": "code",
        "outputId": "6c078c96-32b3-4a72-f968-5cbbc180eb11",
        "colab": {
          "base_uri": "https://localhost:8080/",
          "height": 228
        }
      },
      "source": [
        "print(model.summary())"
      ],
      "execution_count": 0,
      "outputs": [
        {
          "output_type": "stream",
          "text": [
            "_________________________________________________________________\n",
            "Layer (type)                 Output Shape              Param #   \n",
            "=================================================================\n",
            "dense_6 (Dense)              (None, 256)               200960    \n",
            "_________________________________________________________________\n",
            "dense_7 (Dense)              (None, 10)                2570      \n",
            "=================================================================\n",
            "Total params: 203,530\n",
            "Trainable params: 203,530\n",
            "Non-trainable params: 0\n",
            "_________________________________________________________________\n",
            "None\n"
          ],
          "name": "stdout"
        }
      ]
    },
    {
      "cell_type": "markdown",
      "metadata": {
        "id": "yC0leYJPluJR",
        "colab_type": "text"
      },
      "source": [
        "確認所有需要訓練的Param(參數)有203,530個 = 200,960(784x256+256) + 2,570(256x10+10)"
      ]
    },
    {
      "cell_type": "markdown",
      "metadata": {
        "id": "bu-LIWLKmZvG",
        "colab_type": "text"
      },
      "source": [
        "### 進行訓練"
      ]
    },
    {
      "cell_type": "markdown",
      "metadata": {
        "id": "8N1z_lJcm8uA",
        "colab_type": "text"
      },
      "source": [
        "#### STEP1. 定義訓練方式(對模型進行設定)"
      ]
    },
    {
      "cell_type": "code",
      "metadata": {
        "id": "MUaSqI7ynMJ9",
        "colab_type": "code",
        "colab": {}
      },
      "source": [
        "model.compile(loss = 'categorical_crossentropy',\n",
        "              optimizer = 'adam',\n",
        "              metrics = ['accuracy']\n",
        "             )"
      ],
      "execution_count": 0,
      "outputs": []
    },
    {
      "cell_type": "markdown",
      "metadata": {
        "id": "D0f9o6SRnz5b",
        "colab_type": "text"
      },
      "source": [
        "compile方法的參數說明：\n",
        "* loss：損失函數(loss function)，通常在深度學習會使用cross_entropy(交叉熵)，訓練效果較好\n",
        "* optimizer：優化函數，設定訓練時最優化方法，在深度學習通常會使用adam讓訓練更快收斂\n",
        "* metrics：成效衡量指標，設定評估模型的指標為accuracy(準確率)"
      ]
    },
    {
      "cell_type": "markdown",
      "metadata": {
        "id": "196Eq4pGo6Ug",
        "colab_type": "text"
      },
      "source": [
        "#### STEP2. 開始訓練"
      ]
    },
    {
      "cell_type": "code",
      "metadata": {
        "id": "r5GIEyMCpCu9",
        "colab_type": "code",
        "outputId": "91c94ed1-844c-4d22-b68c-dd13a53b3143",
        "colab": {
          "base_uri": "https://localhost:8080/",
          "height": 386
        }
      },
      "source": [
        "train_history = model.fit(x = X_Train_Normalization,\n",
        "                          y = y_Train_OneHotEncoding,\n",
        "                          validation_split = 0.2,  # 驗證資料比例20%\n",
        "                          epochs = 10,  # 訓練週期\n",
        "                          batch_size = 200,  # 每次訓練批數200筆資料\n",
        "                          verbose = 2  # 顯示訓練過程\n",
        "                         )"
      ],
      "execution_count": 0,
      "outputs": [
        {
          "output_type": "stream",
          "text": [
            "Train on 48000 samples, validate on 12000 samples\n",
            "Epoch 1/10\n",
            " - 3s - loss: 0.4440 - acc: 0.8820 - val_loss: 0.2268 - val_acc: 0.9362\n",
            "Epoch 2/10\n",
            " - 2s - loss: 0.1952 - acc: 0.9446 - val_loss: 0.1636 - val_acc: 0.9537\n",
            "Epoch 3/10\n",
            " - 2s - loss: 0.1399 - acc: 0.9592 - val_loss: 0.1305 - val_acc: 0.9635\n",
            "Epoch 4/10\n",
            " - 2s - loss: 0.1068 - acc: 0.9697 - val_loss: 0.1119 - val_acc: 0.9688\n",
            "Epoch 5/10\n",
            " - 2s - loss: 0.0854 - acc: 0.9760 - val_loss: 0.1017 - val_acc: 0.9708\n",
            "Epoch 6/10\n",
            " - 2s - loss: 0.0687 - acc: 0.9811 - val_loss: 0.0930 - val_acc: 0.9712\n",
            "Epoch 7/10\n",
            " - 2s - loss: 0.0569 - acc: 0.9848 - val_loss: 0.0914 - val_acc: 0.9717\n",
            "Epoch 8/10\n",
            " - 2s - loss: 0.0477 - acc: 0.9870 - val_loss: 0.0897 - val_acc: 0.9730\n",
            "Epoch 9/10\n",
            " - 2s - loss: 0.0397 - acc: 0.9895 - val_loss: 0.0828 - val_acc: 0.9759\n",
            "Epoch 10/10\n",
            " - 2s - loss: 0.0325 - acc: 0.9918 - val_loss: 0.0797 - val_acc: 0.9762\n"
          ],
          "name": "stdout"
        }
      ]
    },
    {
      "cell_type": "markdown",
      "metadata": {
        "id": "iA_Uj41rprha",
        "colab_type": "text"
      },
      "source": [
        "#### STEP3. 建立函式(show_train_history)以圖表顯示訓練過程"
      ]
    },
    {
      "cell_type": "code",
      "metadata": {
        "id": "MdrxurzRqlzZ",
        "colab_type": "code",
        "colab": {}
      },
      "source": [
        "def show_train_history(train_history, train, validation):\n",
        "  plt.plot(train_history.history[train])\n",
        "  plt.plot(train_history.history[validation])\n",
        "  plt.title('Train History')\n",
        "  plt.ylabel(train)\n",
        "  plt.xlabel('Epoch')\n",
        "  plt.legend(['train', 'validation'], loc='upper left')  # 顯示圖例於左上\n",
        "  plt.show()"
      ],
      "execution_count": 0,
      "outputs": []
    },
    {
      "cell_type": "markdown",
      "metadata": {
        "id": "mVcGX0_Hrnhe",
        "colab_type": "text"
      },
      "source": [
        "#### STEP4. 畫出accuracy執行結果"
      ]
    },
    {
      "cell_type": "code",
      "metadata": {
        "id": "nMY_2dEErueW",
        "colab_type": "code",
        "outputId": "39fb6766-af93-470e-cb2a-dc960e4db0b3",
        "colab": {
          "base_uri": "https://localhost:8080/",
          "height": 295
        }
      },
      "source": [
        "show_train_history(train_history, 'acc', 'val_acc')"
      ],
      "execution_count": 0,
      "outputs": [
        {
          "output_type": "display_data",
          "data": {
            "image/png": "[encoded data removed]",
            "text/plain": [
              "<Figure size 432x288 with 1 Axes>"
            ]
          },
          "metadata": {
            "tags": []
          }
        }
      ]
    },
    {
      "cell_type": "markdown",
      "metadata": {
        "id": "rn50qDHtr891",
        "colab_type": "text"
      },
      "source": [
        "為何在10個訓練週期中，後期train的準確率比validation高?\n",
        "* train訓練準確率：好像老師上過課的測驗題，考試從中間抽出來考，答對會比較多。(但容易有Overfitting的問題)\n",
        "* validation訓練準確率：老師上課測驗，但考試是拿獨立的題庫進行考試，準確率長期以來一定比較train低"
      ]
    },
    {
      "cell_type": "markdown",
      "metadata": {
        "id": "m43cT1HltpNx",
        "colab_type": "text"
      },
      "source": [
        "#### STEP5. 畫出loss誤差值行結果"
      ]
    },
    {
      "cell_type": "code",
      "metadata": {
        "id": "oUxEK7LnuCI3",
        "colab_type": "code",
        "outputId": "215b26c8-5e16-4de5-e18d-a6118bdee39a",
        "colab": {
          "base_uri": "https://localhost:8080/",
          "height": 295
        }
      },
      "source": [
        "show_train_history(train_history, 'loss', 'val_loss')"
      ],
      "execution_count": 0,
      "outputs": [
        {
          "output_type": "display_data",
          "data": {
            "image/png": "[encoded data removed]",
            "text/plain": [
              "<Figure size 432x288 with 1 Axes>"
            ]
          },
          "metadata": {
            "tags": []
          }
        }
      ]
    },
    {
      "cell_type": "markdown",
      "metadata": {
        "id": "ToXGjpOKuN2Q",
        "colab_type": "text"
      },
      "source": [
        "### 以測試資料評估模型準確率"
      ]
    },
    {
      "cell_type": "markdown",
      "metadata": {
        "id": "SxzFAlIWuen_",
        "colab_type": "text"
      },
      "source": [
        "* 使用TEST資料進行模型評估(完全獨立於訓練資料的資料，比驗證的數據更客觀)"
      ]
    },
    {
      "cell_type": "markdown",
      "metadata": {
        "id": "Igfco8IDusm3",
        "colab_type": "text"
      },
      "source": [
        "#### STEP1. 評估模型準確率"
      ]
    },
    {
      "cell_type": "code",
      "metadata": {
        "id": "dfEIjEBsuxlz",
        "colab_type": "code",
        "outputId": "3a136226-f45f-4655-ef2a-39c323129ca4",
        "colab": {
          "base_uri": "https://localhost:8080/",
          "height": 70
        }
      },
      "source": [
        "scores = model.evaluate(X_Test_Normalization, y_Test_OneHotEncoding)\n",
        "print()\n",
        "print('accuracy=', scores[1])"
      ],
      "execution_count": 0,
      "outputs": [
        {
          "output_type": "stream",
          "text": [
            "10000/10000 [==============================] - 0s 34us/step\n",
            "\n",
            "accuracy= 0.9778\n"
          ],
          "name": "stdout"
        }
      ]
    },
    {
      "cell_type": "markdown",
      "metadata": {
        "id": "z7V-a01avDVg",
        "colab_type": "text"
      },
      "source": [
        "### 進行預測"
      ]
    },
    {
      "cell_type": "markdown",
      "metadata": {
        "id": "b-lMw2pKvPbE",
        "colab_type": "text"
      },
      "source": [
        "#### STEP1. 執行預測"
      ]
    },
    {
      "cell_type": "code",
      "metadata": {
        "id": "E9x4rDrEvWhG",
        "colab_type": "code",
        "colab": {}
      },
      "source": [
        "prediction = model.predict_classes(X_Test)  # 使用predict_classes是返回類別索引；使用predict是返回數值(類別的概率)"
      ],
      "execution_count": 0,
      "outputs": []
    },
    {
      "cell_type": "markdown",
      "metadata": {
        "id": "bwQckkx1vsk8",
        "colab_type": "text"
      },
      "source": [
        "#### STEP2. 預測結果"
      ]
    },
    {
      "cell_type": "code",
      "metadata": {
        "id": "yGOhVB2IvvXa",
        "colab_type": "code",
        "outputId": "6e887f85-9477-4eec-bd69-7abfe293a0e3",
        "colab": {
          "base_uri": "https://localhost:8080/",
          "height": 34
        }
      },
      "source": [
        "print(prediction)"
      ],
      "execution_count": 0,
      "outputs": [
        {
          "output_type": "stream",
          "text": [
            "[7 2 1 ... 4 5 6]\n"
          ],
          "name": "stdout"
        }
      ]
    },
    {
      "cell_type": "markdown",
      "metadata": {
        "id": "Abk8emqbvwy_",
        "colab_type": "text"
      },
      "source": [
        "#### STEP3. 顯示預測結果(10筆) (利用前面所建立比較多筆image與label的函式)"
      ]
    },
    {
      "cell_type": "code",
      "metadata": {
        "id": "ipkmo2Trwmqc",
        "colab_type": "code",
        "outputId": "746c1a6e-ded6-49b1-8f54-3e8939616187",
        "colab": {
          "base_uri": "https://localhost:8080/",
          "height": 321
        }
      },
      "source": [
        "plot_images_labels_prediction(X_test_image, y_test_label, prediction, idx=340)  # 顯示從第340開始的10筆資料(340~349筆)"
      ],
      "execution_count": 0,
      "outputs": [
        {
          "output_type": "display_data",
          "data": {
            "image/png": "[encoded data removed]",
            "text/plain": [
              "<Figure size 864x1008 with 10 Axes>"
            ]
          },
          "metadata": {
            "tags": []
          }
        }
      ]
    },
    {
      "cell_type": "markdown",
      "metadata": {
        "id": "xSOau6fzxhde",
        "colab_type": "text"
      },
      "source": [
        "小結：\n",
        "發現有部分預測是錯誤的"
      ]
    },
    {
      "cell_type": "markdown",
      "metadata": {
        "id": "MnaCf860yGBs",
        "colab_type": "text"
      },
      "source": [
        "### 顯示Confusion Matrix(混淆矩陣)"
      ]
    },
    {
      "cell_type": "markdown",
      "metadata": {
        "id": "0JhCHFdMyRgY",
        "colab_type": "text"
      },
      "source": [
        "* 機器學習領域中，特別是統計分類的問題，會使用混淆矩陣(又稱誤差矩陣，error matrix)以視覺化方式了解監督式學習演算法是否混淆分類。"
      ]
    },
    {
      "cell_type": "markdown",
      "metadata": {
        "id": "W6gw6B7Hy703",
        "colab_type": "text"
      },
      "source": [
        "#### STEP1. 使用pandas crosstab建立混淆矩陣"
      ]
    },
    {
      "cell_type": "code",
      "metadata": {
        "id": "JQ0hCrb7zDbb",
        "colab_type": "code",
        "outputId": "d0c28884-d62a-4ccf-fd68-14ccb9240725",
        "colab": {
          "base_uri": "https://localhost:8080/",
          "height": 389
        }
      },
      "source": [
        "pd.crosstab(y_test_label, \n",
        "            prediction,\n",
        "            rownames = ['label'],\n",
        "            colnames = ['predict']\n",
        "           )"
      ],
      "execution_count": 0,
      "outputs": [
        {
          "output_type": "execute_result",
          "data": {
            "text/html": [
              "<div>\n",
              "<style scoped>\n",
              "    .dataframe tbody tr th:only-of-type {\n",
              "        vertical-align: middle;\n",
              "    }\n",
              "\n",
              "    .dataframe tbody tr th {\n",
              "        vertical-align: top;\n",
              "    }\n",
              "\n",
              "    .dataframe thead th {\n",
              "        text-align: right;\n",
              "    }\n",
              "</style>\n",
              "<table border=\"1\" class=\"dataframe\">\n",
              "  <thead>\n",
              "    <tr style=\"text-align: right;\">\n",
              "      <th>predict</th>\n",
              "      <th>0</th>\n",
              "      <th>1</th>\n",
              "      <th>2</th>\n",
              "      <th>3</th>\n",
              "      <th>4</th>\n",
              "      <th>5</th>\n",
              "      <th>6</th>\n",
              "      <th>7</th>\n",
              "      <th>8</th>\n",
              "      <th>9</th>\n",
              "    </tr>\n",
              "    <tr>\n",
              "      <th>label</th>\n",
              "      <th></th>\n",
              "      <th></th>\n",
              "      <th></th>\n",
              "      <th></th>\n",
              "      <th></th>\n",
              "      <th></th>\n",
              "      <th></th>\n",
              "      <th></th>\n",
              "      <th></th>\n",
              "      <th></th>\n",
              "    </tr>\n",
              "  </thead>\n",
              "  <tbody>\n",
              "    <tr>\n",
              "      <th>0</th>\n",
              "      <td>966</td>\n",
              "      <td>0</td>\n",
              "      <td>1</td>\n",
              "      <td>3</td>\n",
              "      <td>1</td>\n",
              "      <td>1</td>\n",
              "      <td>2</td>\n",
              "      <td>1</td>\n",
              "      <td>3</td>\n",
              "      <td>2</td>\n",
              "    </tr>\n",
              "    <tr>\n",
              "      <th>1</th>\n",
              "      <td>0</td>\n",
              "      <td>1122</td>\n",
              "      <td>4</td>\n",
              "      <td>1</td>\n",
              "      <td>0</td>\n",
              "      <td>1</td>\n",
              "      <td>3</td>\n",
              "      <td>0</td>\n",
              "      <td>4</td>\n",
              "      <td>0</td>\n",
              "    </tr>\n",
              "    <tr>\n",
              "      <th>2</th>\n",
              "      <td>4</td>\n",
              "      <td>1</td>\n",
              "      <td>1005</td>\n",
              "      <td>7</td>\n",
              "      <td>0</td>\n",
              "      <td>0</td>\n",
              "      <td>2</td>\n",
              "      <td>5</td>\n",
              "      <td>8</td>\n",
              "      <td>0</td>\n",
              "    </tr>\n",
              "    <tr>\n",
              "      <th>3</th>\n",
              "      <td>0</td>\n",
              "      <td>0</td>\n",
              "      <td>1</td>\n",
              "      <td>999</td>\n",
              "      <td>0</td>\n",
              "      <td>1</td>\n",
              "      <td>0</td>\n",
              "      <td>3</td>\n",
              "      <td>3</td>\n",
              "      <td>3</td>\n",
              "    </tr>\n",
              "    <tr>\n",
              "      <th>4</th>\n",
              "      <td>2</td>\n",
              "      <td>0</td>\n",
              "      <td>3</td>\n",
              "      <td>1</td>\n",
              "      <td>955</td>\n",
              "      <td>0</td>\n",
              "      <td>4</td>\n",
              "      <td>3</td>\n",
              "      <td>0</td>\n",
              "      <td>14</td>\n",
              "    </tr>\n",
              "    <tr>\n",
              "      <th>5</th>\n",
              "      <td>3</td>\n",
              "      <td>0</td>\n",
              "      <td>0</td>\n",
              "      <td>15</td>\n",
              "      <td>0</td>\n",
              "      <td>859</td>\n",
              "      <td>5</td>\n",
              "      <td>1</td>\n",
              "      <td>5</td>\n",
              "      <td>4</td>\n",
              "    </tr>\n",
              "    <tr>\n",
              "      <th>6</th>\n",
              "      <td>5</td>\n",
              "      <td>2</td>\n",
              "      <td>3</td>\n",
              "      <td>1</td>\n",
              "      <td>4</td>\n",
              "      <td>3</td>\n",
              "      <td>939</td>\n",
              "      <td>0</td>\n",
              "      <td>1</td>\n",
              "      <td>0</td>\n",
              "    </tr>\n",
              "    <tr>\n",
              "      <th>7</th>\n",
              "      <td>0</td>\n",
              "      <td>5</td>\n",
              "      <td>11</td>\n",
              "      <td>6</td>\n",
              "      <td>1</td>\n",
              "      <td>0</td>\n",
              "      <td>0</td>\n",
              "      <td>987</td>\n",
              "      <td>2</td>\n",
              "      <td>16</td>\n",
              "    </tr>\n",
              "    <tr>\n",
              "      <th>8</th>\n",
              "      <td>3</td>\n",
              "      <td>0</td>\n",
              "      <td>4</td>\n",
              "      <td>9</td>\n",
              "      <td>0</td>\n",
              "      <td>2</td>\n",
              "      <td>2</td>\n",
              "      <td>2</td>\n",
              "      <td>950</td>\n",
              "      <td>2</td>\n",
              "    </tr>\n",
              "    <tr>\n",
              "      <th>9</th>\n",
              "      <td>1</td>\n",
              "      <td>5</td>\n",
              "      <td>0</td>\n",
              "      <td>8</td>\n",
              "      <td>5</td>\n",
              "      <td>2</td>\n",
              "      <td>1</td>\n",
              "      <td>3</td>\n",
              "      <td>2</td>\n",
              "      <td>982</td>\n",
              "    </tr>\n",
              "  </tbody>\n",
              "</table>\n",
              "</div>"
            ],
            "text/plain": [
              "predict    0     1     2    3    4    5    6    7    8    9\n",
              "label                                                      \n",
              "0        966     0     1    3    1    1    2    1    3    2\n",
              "1          0  1122     4    1    0    1    3    0    4    0\n",
              "2          4     1  1005    7    0    0    2    5    8    0\n",
              "3          0     0     1  999    0    1    0    3    3    3\n",
              "4          2     0     3    1  955    0    4    3    0   14\n",
              "5          3     0     0   15    0  859    5    1    5    4\n",
              "6          5     2     3    1    4    3  939    0    1    0\n",
              "7          0     5    11    6    1    0    0  987    2   16\n",
              "8          3     0     4    9    0    2    2    2  950    2\n",
              "9          1     5     0    8    5    2    1    3    2  982"
            ]
          },
          "metadata": {
            "tags": []
          },
          "execution_count": 87
        }
      ]
    },
    {
      "cell_type": "markdown",
      "metadata": {
        "id": "YUhtTtCS0JBc",
        "colab_type": "text"
      },
      "source": [
        "小結：發現預測與實際有誤差、且超過10筆的共有3項\n",
        "* 預測 = 9, 實際 = 7\n",
        "* 預測 = 3, 實際 = 5\n",
        "* 預測 = 2, 實際 = 7"
      ]
    },
    {
      "cell_type": "markdown",
      "metadata": {
        "id": "dK2zj3q200bC",
        "colab_type": "text"
      },
      "source": [
        "#### STEP2. 建立實際與預測dataframe"
      ]
    },
    {
      "cell_type": "code",
      "metadata": {
        "id": "ttnKOTdV08Gu",
        "colab_type": "code",
        "outputId": "1a628c15-8df6-4b23-83e1-39fc9ae332eb",
        "colab": {
          "base_uri": "https://localhost:8080/",
          "height": 110
        }
      },
      "source": [
        "df = pd.DataFrame({'label':y_test_label, 'predict':prediction})\n",
        "df[:2]"
      ],
      "execution_count": 0,
      "outputs": [
        {
          "output_type": "execute_result",
          "data": {
            "text/html": [
              "<div>\n",
              "<style scoped>\n",
              "    .dataframe tbody tr th:only-of-type {\n",
              "        vertical-align: middle;\n",
              "    }\n",
              "\n",
              "    .dataframe tbody tr th {\n",
              "        vertical-align: top;\n",
              "    }\n",
              "\n",
              "    .dataframe thead th {\n",
              "        text-align: right;\n",
              "    }\n",
              "</style>\n",
              "<table border=\"1\" class=\"dataframe\">\n",
              "  <thead>\n",
              "    <tr style=\"text-align: right;\">\n",
              "      <th></th>\n",
              "      <th>label</th>\n",
              "      <th>predict</th>\n",
              "    </tr>\n",
              "  </thead>\n",
              "  <tbody>\n",
              "    <tr>\n",
              "      <th>0</th>\n",
              "      <td>7</td>\n",
              "      <td>7</td>\n",
              "    </tr>\n",
              "    <tr>\n",
              "      <th>1</th>\n",
              "      <td>2</td>\n",
              "      <td>2</td>\n",
              "    </tr>\n",
              "  </tbody>\n",
              "</table>\n",
              "</div>"
            ],
            "text/plain": [
              "   label  predict\n",
              "0      7        7\n",
              "1      2        2"
            ]
          },
          "metadata": {
            "tags": []
          },
          "execution_count": 88
        }
      ]
    },
    {
      "cell_type": "markdown",
      "metadata": {
        "id": "0RIGiROc1UsG",
        "colab_type": "text"
      },
      "source": [
        "#### STEP3. 查詢誤差較多的項目(真實值=7, 預測=9)"
      ]
    },
    {
      "cell_type": "code",
      "metadata": {
        "id": "K-kRbV5u1nsA",
        "colab_type": "code",
        "outputId": "d94daeec-ba73-42c7-bf5a-4310c87f5367",
        "colab": {
          "base_uri": "https://localhost:8080/",
          "height": 543
        }
      },
      "source": [
        "df[(df.label == 7)&(df.predict == 9)]"
      ],
      "execution_count": 0,
      "outputs": [
        {
          "output_type": "execute_result",
          "data": {
            "text/html": [
              "<div>\n",
              "<style scoped>\n",
              "    .dataframe tbody tr th:only-of-type {\n",
              "        vertical-align: middle;\n",
              "    }\n",
              "\n",
              "    .dataframe tbody tr th {\n",
              "        vertical-align: top;\n",
              "    }\n",
              "\n",
              "    .dataframe thead th {\n",
              "        text-align: right;\n",
              "    }\n",
              "</style>\n",
              "<table border=\"1\" class=\"dataframe\">\n",
              "  <thead>\n",
              "    <tr style=\"text-align: right;\">\n",
              "      <th></th>\n",
              "      <th>label</th>\n",
              "      <th>predict</th>\n",
              "    </tr>\n",
              "  </thead>\n",
              "  <tbody>\n",
              "    <tr>\n",
              "      <th>846</th>\n",
              "      <td>7</td>\n",
              "      <td>9</td>\n",
              "    </tr>\n",
              "    <tr>\n",
              "      <th>1328</th>\n",
              "      <td>7</td>\n",
              "      <td>9</td>\n",
              "    </tr>\n",
              "    <tr>\n",
              "      <th>1494</th>\n",
              "      <td>7</td>\n",
              "      <td>9</td>\n",
              "    </tr>\n",
              "    <tr>\n",
              "      <th>1496</th>\n",
              "      <td>7</td>\n",
              "      <td>9</td>\n",
              "    </tr>\n",
              "    <tr>\n",
              "      <th>1522</th>\n",
              "      <td>7</td>\n",
              "      <td>9</td>\n",
              "    </tr>\n",
              "    <tr>\n",
              "      <th>2024</th>\n",
              "      <td>7</td>\n",
              "      <td>9</td>\n",
              "    </tr>\n",
              "    <tr>\n",
              "      <th>2070</th>\n",
              "      <td>7</td>\n",
              "      <td>9</td>\n",
              "    </tr>\n",
              "    <tr>\n",
              "      <th>3376</th>\n",
              "      <td>7</td>\n",
              "      <td>9</td>\n",
              "    </tr>\n",
              "    <tr>\n",
              "      <th>4027</th>\n",
              "      <td>7</td>\n",
              "      <td>9</td>\n",
              "    </tr>\n",
              "    <tr>\n",
              "      <th>4199</th>\n",
              "      <td>7</td>\n",
              "      <td>9</td>\n",
              "    </tr>\n",
              "    <tr>\n",
              "      <th>4578</th>\n",
              "      <td>7</td>\n",
              "      <td>9</td>\n",
              "    </tr>\n",
              "    <tr>\n",
              "      <th>5600</th>\n",
              "      <td>7</td>\n",
              "      <td>9</td>\n",
              "    </tr>\n",
              "    <tr>\n",
              "      <th>5714</th>\n",
              "      <td>7</td>\n",
              "      <td>9</td>\n",
              "    </tr>\n",
              "    <tr>\n",
              "      <th>5835</th>\n",
              "      <td>7</td>\n",
              "      <td>9</td>\n",
              "    </tr>\n",
              "    <tr>\n",
              "      <th>5887</th>\n",
              "      <td>7</td>\n",
              "      <td>9</td>\n",
              "    </tr>\n",
              "    <tr>\n",
              "      <th>9534</th>\n",
              "      <td>7</td>\n",
              "      <td>9</td>\n",
              "    </tr>\n",
              "  </tbody>\n",
              "</table>\n",
              "</div>"
            ],
            "text/plain": [
              "      label  predict\n",
              "846       7        9\n",
              "1328      7        9\n",
              "1494      7        9\n",
              "1496      7        9\n",
              "1522      7        9\n",
              "2024      7        9\n",
              "2070      7        9\n",
              "3376      7        9\n",
              "4027      7        9\n",
              "4199      7        9\n",
              "4578      7        9\n",
              "5600      7        9\n",
              "5714      7        9\n",
              "5835      7        9\n",
              "5887      7        9\n",
              "9534      7        9"
            ]
          },
          "metadata": {
            "tags": []
          },
          "execution_count": 89
        }
      ]
    },
    {
      "cell_type": "markdown",
      "metadata": {
        "id": "OTD8o-mv1yH7",
        "colab_type": "text"
      },
      "source": [
        "* 取第846項來看看圖像"
      ]
    },
    {
      "cell_type": "code",
      "metadata": {
        "id": "8teypS3m2PrC",
        "colab_type": "code",
        "outputId": "9b4cf35c-ec9f-4a53-c8c4-bedb12007973",
        "colab": {
          "base_uri": "https://localhost:8080/",
          "height": 164
        }
      },
      "source": [
        "plot_images_labels_prediction(X_test_image,\n",
        "                              y_test_label,\n",
        "                              prediction,\n",
        "                              idx = 846,\n",
        "                              num = 1\n",
        "                             )"
      ],
      "execution_count": 0,
      "outputs": [
        {
          "output_type": "display_data",
          "data": {
            "image/png": "[encoded data removed]",
            "text/plain": [
              "<Figure size 864x1008 with 1 Axes>"
            ]
          },
          "metadata": {
            "tags": []
          }
        }
      ]
    },
    {
      "cell_type": "markdown",
      "metadata": {
        "id": "GSHudbts3EWM",
        "colab_type": "text"
      },
      "source": [
        "---"
      ]
    },
    {
      "cell_type": "markdown",
      "metadata": {
        "id": "c2w4gq3h2S9L",
        "colab_type": "text"
      },
      "source": [
        "### MLP模型_2 ─ 多層感知器增加隱藏層神經元個數為1000"
      ]
    },
    {
      "cell_type": "markdown",
      "metadata": {
        "id": "tv6B3n8a2_cJ",
        "colab_type": "text"
      },
      "source": [
        "* 來試試看MLP模型增加隱藏層神經元為1000個會如何？"
      ]
    },
    {
      "cell_type": "markdown",
      "metadata": {
        "id": "3-YfDicG3QvP",
        "colab_type": "text"
      },
      "source": [
        "#### STEP1. 建立模型"
      ]
    },
    {
      "cell_type": "code",
      "metadata": {
        "id": "0oJVhIa33ckE",
        "colab_type": "code",
        "colab": {}
      },
      "source": [
        "model2 = Sequential()"
      ],
      "execution_count": 0,
      "outputs": []
    },
    {
      "cell_type": "code",
      "metadata": {
        "id": "b8BD9EyI3fwn",
        "colab_type": "code",
        "colab": {}
      },
      "source": [
        "model2.add(Dense(units = 1000,\n",
        "                 input_dim = 784,\n",
        "                 kernel_initializer = 'normal',\n",
        "                 activation = 'relu'\n",
        "                )\n",
        "          )"
      ],
      "execution_count": 0,
      "outputs": []
    },
    {
      "cell_type": "code",
      "metadata": {
        "id": "TkzWsb2R3_41",
        "colab_type": "code",
        "colab": {}
      },
      "source": [
        "model2.add(Dense(units = 10,\n",
        "                 kernel_initializer = 'normal',\n",
        "                 activation = 'softmax'\n",
        "                )\n",
        "          )"
      ],
      "execution_count": 0,
      "outputs": []
    },
    {
      "cell_type": "markdown",
      "metadata": {
        "id": "L2nLUf7T30Ra",
        "colab_type": "text"
      },
      "source": [
        "#### STEP2. 查看模型摘要"
      ]
    },
    {
      "cell_type": "code",
      "metadata": {
        "id": "QoTuEFdU34ZJ",
        "colab_type": "code",
        "outputId": "71675e72-cf42-4be3-e72a-28e0e8c4df39",
        "colab": {
          "base_uri": "https://localhost:8080/",
          "height": 228
        }
      },
      "source": [
        "print(model2.summary())"
      ],
      "execution_count": 0,
      "outputs": [
        {
          "output_type": "stream",
          "text": [
            "_________________________________________________________________\n",
            "Layer (type)                 Output Shape              Param #   \n",
            "=================================================================\n",
            "dense_8 (Dense)              (None, 1000)              785000    \n",
            "_________________________________________________________________\n",
            "dense_9 (Dense)              (None, 10)                10010     \n",
            "=================================================================\n",
            "Total params: 795,010\n",
            "Trainable params: 795,010\n",
            "Non-trainable params: 0\n",
            "_________________________________________________________________\n",
            "None\n"
          ],
          "name": "stdout"
        }
      ]
    },
    {
      "cell_type": "markdown",
      "metadata": {
        "id": "uUzjVfXX37bE",
        "colab_type": "text"
      },
      "source": [
        "#### STEP3. 開始訓練"
      ]
    },
    {
      "cell_type": "code",
      "metadata": {
        "id": "WTzJ6Jik45NX",
        "colab_type": "code",
        "colab": {}
      },
      "source": [
        "model2.compile(loss = 'categorical_crossentropy',\n",
        "               optimizer = 'adam',\n",
        "               metrics = ['accuracy']\n",
        "              )"
      ],
      "execution_count": 0,
      "outputs": []
    },
    {
      "cell_type": "code",
      "metadata": {
        "id": "SEBhJ4OX4WRB",
        "colab_type": "code",
        "outputId": "8b19580d-0acb-401e-ea3f-43a5a506a2ad",
        "colab": {
          "base_uri": "https://localhost:8080/",
          "height": 386
        }
      },
      "source": [
        "train_history2 = model2.fit(x = X_Train_Normalization,\n",
        "                            y = y_Train_OneHotEncoding,\n",
        "                            validation_split = 0.2,\n",
        "                            epochs = 10,\n",
        "                            batch_size = 200,\n",
        "                            verbose = 2\n",
        "                           )"
      ],
      "execution_count": 0,
      "outputs": [
        {
          "output_type": "stream",
          "text": [
            "Train on 48000 samples, validate on 12000 samples\n",
            "Epoch 1/10\n",
            " - 6s - loss: 0.2952 - acc: 0.9158 - val_loss: 0.1528 - val_acc: 0.9564\n",
            "Epoch 2/10\n",
            " - 6s - loss: 0.1166 - acc: 0.9668 - val_loss: 0.1172 - val_acc: 0.9658\n",
            "Epoch 3/10\n",
            " - 6s - loss: 0.0754 - acc: 0.9788 - val_loss: 0.0946 - val_acc: 0.9717\n",
            "Epoch 4/10\n",
            " - 6s - loss: 0.0525 - acc: 0.9853 - val_loss: 0.0824 - val_acc: 0.9749\n",
            "Epoch 5/10\n",
            " - 6s - loss: 0.0360 - acc: 0.9905 - val_loss: 0.0775 - val_acc: 0.9757\n",
            "Epoch 6/10\n",
            " - 6s - loss: 0.0261 - acc: 0.9933 - val_loss: 0.0737 - val_acc: 0.9773\n",
            "Epoch 7/10\n",
            " - 6s - loss: 0.0183 - acc: 0.9960 - val_loss: 0.0695 - val_acc: 0.9793\n",
            "Epoch 8/10\n",
            " - 6s - loss: 0.0127 - acc: 0.9976 - val_loss: 0.0754 - val_acc: 0.9784\n",
            "Epoch 9/10\n",
            " - 6s - loss: 0.0098 - acc: 0.9984 - val_loss: 0.0728 - val_acc: 0.9793\n",
            "Epoch 10/10\n",
            " - 6s - loss: 0.0078 - acc: 0.9989 - val_loss: 0.0790 - val_acc: 0.9780\n"
          ],
          "name": "stdout"
        }
      ]
    },
    {
      "cell_type": "markdown",
      "metadata": {
        "id": "pRmPY-tN4wn9",
        "colab_type": "text"
      },
      "source": [
        "#### STEP4. 查看訓練過程的準確率與損失曲線"
      ]
    },
    {
      "cell_type": "markdown",
      "metadata": {
        "id": "91sDPfNo5p9K",
        "colab_type": "text"
      },
      "source": [
        "* 準確率"
      ]
    },
    {
      "cell_type": "code",
      "metadata": {
        "id": "Dyt2a05j5Y5a",
        "colab_type": "code",
        "outputId": "0213bffe-7301-43a9-96b3-4f5d47b2333d",
        "colab": {
          "base_uri": "https://localhost:8080/",
          "height": 295
        }
      },
      "source": [
        "show_train_history(train_history2, 'acc', 'val_acc')"
      ],
      "execution_count": 0,
      "outputs": [
        {
          "output_type": "display_data",
          "data": {
            "image/png": "[encoded data removed]",
            "text/plain": [
              "<Figure size 432x288 with 1 Axes>"
            ]
          },
          "metadata": {
            "tags": []
          }
        }
      ]
    },
    {
      "cell_type": "markdown",
      "metadata": {
        "id": "abljXyfC5hXW",
        "colab_type": "text"
      },
      "source": [
        "* 損失曲線"
      ]
    },
    {
      "cell_type": "code",
      "metadata": {
        "id": "q4pXRGQw5u6w",
        "colab_type": "code",
        "outputId": "050fe1d1-3dfc-43ae-f0cd-65a0aa47d223",
        "colab": {
          "base_uri": "https://localhost:8080/",
          "height": 295
        }
      },
      "source": [
        "show_train_history(train_history2, 'loss', 'val_loss')"
      ],
      "execution_count": 0,
      "outputs": [
        {
          "output_type": "display_data",
          "data": {
            "image/png": "[encoded data removed]",
            "text/plain": [
              "<Figure size 432x288 with 1 Axes>"
            ]
          },
          "metadata": {
            "tags": []
          }
        }
      ]
    },
    {
      "cell_type": "markdown",
      "metadata": {
        "id": "5NOkm9cl525e",
        "colab_type": "text"
      },
      "source": [
        "#### STEP5. 預測準確率"
      ]
    },
    {
      "cell_type": "code",
      "metadata": {
        "id": "BkrV4PDe58v9",
        "colab_type": "code",
        "outputId": "3f1eb0b9-597e-45a7-c822-94ccc1bd8378",
        "colab": {
          "base_uri": "https://localhost:8080/",
          "height": 70
        }
      },
      "source": [
        "scores2 = model2.evaluate(X_Test_Normalization, y_Test_OneHotEncoding)\n",
        "print()\n",
        "print('accuracy = ', scores2[1])"
      ],
      "execution_count": 0,
      "outputs": [
        {
          "output_type": "stream",
          "text": [
            "10000/10000 [==============================] - 1s 74us/step\n",
            "\n",
            "accuracy =  0.9793\n"
          ],
          "name": "stdout"
        }
      ]
    },
    {
      "cell_type": "markdown",
      "metadata": {
        "id": "wmrj68mH6J8N",
        "colab_type": "text"
      },
      "source": [
        "### MLP模型_3 ─ 多層感知器加入DropOut功能避免Overfitting"
      ]
    },
    {
      "cell_type": "markdown",
      "metadata": {
        "id": "FXePJbU26oTL",
        "colab_type": "text"
      },
      "source": [
        "* 為了避免過擬合(Overfitting)問題，在MLP中加入DropOut(0.5)指令，可以在每次訓練迭代中隨機在隱藏層放棄50%的神經元，以避免Overfitting"
      ]
    },
    {
      "cell_type": "markdown",
      "metadata": {
        "id": "MB1wjZUA7U4e",
        "colab_type": "text"
      },
      "source": [
        "#### STEP1. 匯入DropOut函數"
      ]
    },
    {
      "cell_type": "code",
      "metadata": {
        "id": "CVyde_Ev7eWv",
        "colab_type": "code",
        "colab": {}
      },
      "source": [
        "from keras.layers import Dropout"
      ],
      "execution_count": 0,
      "outputs": []
    },
    {
      "cell_type": "markdown",
      "metadata": {
        "id": "449xAOBY7juq",
        "colab_type": "text"
      },
      "source": [
        "#### STEP2. 修改隱藏層加入DropOut功能"
      ]
    },
    {
      "cell_type": "code",
      "metadata": {
        "id": "VOaSB-QE7uor",
        "colab_type": "code",
        "colab": {}
      },
      "source": [
        "model3 = Sequential()"
      ],
      "execution_count": 0,
      "outputs": []
    },
    {
      "cell_type": "code",
      "metadata": {
        "id": "HQ_Q2pkw7xkg",
        "colab_type": "code",
        "colab": {}
      },
      "source": [
        "model3.add(Dense(units = 1000,\n",
        "                 input_dim = 784,\n",
        "                 kernel_initializer = 'normal',\n",
        "                 activation = 'relu'\n",
        "                )\n",
        "          )"
      ],
      "execution_count": 0,
      "outputs": []
    },
    {
      "cell_type": "code",
      "metadata": {
        "id": "UDu1e_YY8HtT",
        "colab_type": "code",
        "outputId": "694bc984-5da9-4fd5-9d99-033ddc7823ce",
        "colab": {
          "base_uri": "https://localhost:8080/",
          "height": 90
        }
      },
      "source": [
        "model3.add(Dropout(0.5))  # 在隱藏層加入DropOut指令"
      ],
      "execution_count": 0,
      "outputs": [
        {
          "output_type": "stream",
          "text": [
            "W0804 04:43:47.554220 140501838047104 deprecation.py:506] From /usr/local/lib/python3.6/dist-packages/keras/backend/tensorflow_backend.py:3445: calling dropout (from tensorflow.python.ops.nn_ops) with keep_prob is deprecated and will be removed in a future version.\n",
            "Instructions for updating:\n",
            "Please use `rate` instead of `keep_prob`. Rate should be set to `rate = 1 - keep_prob`.\n"
          ],
          "name": "stderr"
        }
      ]
    },
    {
      "cell_type": "code",
      "metadata": {
        "id": "DfVp4_gg8Mua",
        "colab_type": "code",
        "colab": {}
      },
      "source": [
        "model3.add(Dense(units = 10,\n",
        "                 kernel_initializer = 'normal',\n",
        "                 activation = 'softmax'\n",
        "                )\n",
        "          )"
      ],
      "execution_count": 0,
      "outputs": []
    },
    {
      "cell_type": "markdown",
      "metadata": {
        "id": "yCqYEjqo8WcT",
        "colab_type": "text"
      },
      "source": [
        "#### STEP3. 查看模型摘要"
      ]
    },
    {
      "cell_type": "code",
      "metadata": {
        "id": "GbkRNa4I8a0J",
        "colab_type": "code",
        "outputId": "9214e4eb-dcaa-4e38-d882-217c3028afba",
        "colab": {
          "base_uri": "https://localhost:8080/",
          "height": 263
        }
      },
      "source": [
        "print(model3.summary())"
      ],
      "execution_count": 0,
      "outputs": [
        {
          "output_type": "stream",
          "text": [
            "_________________________________________________________________\n",
            "Layer (type)                 Output Shape              Param #   \n",
            "=================================================================\n",
            "dense_10 (Dense)             (None, 1000)              785000    \n",
            "_________________________________________________________________\n",
            "dropout_1 (Dropout)          (None, 1000)              0         \n",
            "_________________________________________________________________\n",
            "dense_11 (Dense)             (None, 10)                10010     \n",
            "=================================================================\n",
            "Total params: 795,010\n",
            "Trainable params: 795,010\n",
            "Non-trainable params: 0\n",
            "_________________________________________________________________\n",
            "None\n"
          ],
          "name": "stdout"
        }
      ]
    },
    {
      "cell_type": "markdown",
      "metadata": {
        "id": "vIH3pfED8do7",
        "colab_type": "text"
      },
      "source": [
        "#### STEP4. 查看訓練過程中的準確率"
      ]
    },
    {
      "cell_type": "code",
      "metadata": {
        "id": "DKKGvPLh9F0N",
        "colab_type": "code",
        "colab": {}
      },
      "source": [
        "model3.compile(loss = 'categorical_crossentropy',\n",
        "               optimizer = 'adam',\n",
        "               metrics = ['accuracy']\n",
        "              )"
      ],
      "execution_count": 0,
      "outputs": []
    },
    {
      "cell_type": "code",
      "metadata": {
        "id": "XhG1ChH18uaa",
        "colab_type": "code",
        "outputId": "a4b8a041-4265-47af-f102-8a4a19d57cb1",
        "colab": {
          "base_uri": "https://localhost:8080/",
          "height": 386
        }
      },
      "source": [
        "train_history3 = model3.fit(x = X_Train_Normalization,\n",
        "                            y = y_Train_OneHotEncoding,\n",
        "                            validation_split = 0.2,\n",
        "                            epochs = 10,\n",
        "                            batch_size = 200,\n",
        "                            verbose = 2\n",
        "                           )"
      ],
      "execution_count": 0,
      "outputs": [
        {
          "output_type": "stream",
          "text": [
            "Train on 48000 samples, validate on 12000 samples\n",
            "Epoch 1/10\n",
            " - 8s - loss: 0.3553 - acc: 0.8942 - val_loss: 0.1613 - val_acc: 0.9552\n",
            "Epoch 2/10\n",
            " - 8s - loss: 0.1586 - acc: 0.9540 - val_loss: 0.1196 - val_acc: 0.9651\n",
            "Epoch 3/10\n",
            " - 7s - loss: 0.1149 - acc: 0.9654 - val_loss: 0.1001 - val_acc: 0.9704\n",
            "Epoch 4/10\n",
            " - 7s - loss: 0.0925 - acc: 0.9721 - val_loss: 0.0924 - val_acc: 0.9716\n",
            "Epoch 5/10\n",
            " - 8s - loss: 0.0763 - acc: 0.9769 - val_loss: 0.0820 - val_acc: 0.9753\n",
            "Epoch 6/10\n",
            " - 7s - loss: 0.0636 - acc: 0.9806 - val_loss: 0.0756 - val_acc: 0.9771\n",
            "Epoch 7/10\n",
            " - 7s - loss: 0.0553 - acc: 0.9836 - val_loss: 0.0755 - val_acc: 0.9775\n",
            "Epoch 8/10\n",
            " - 8s - loss: 0.0471 - acc: 0.9858 - val_loss: 0.0709 - val_acc: 0.9792\n",
            "Epoch 9/10\n",
            " - 7s - loss: 0.0410 - acc: 0.9872 - val_loss: 0.0673 - val_acc: 0.9793\n",
            "Epoch 10/10\n",
            " - 7s - loss: 0.0367 - acc: 0.9886 - val_loss: 0.0654 - val_acc: 0.9804\n"
          ],
          "name": "stdout"
        }
      ]
    },
    {
      "cell_type": "markdown",
      "metadata": {
        "id": "9ZU5ddkq9DBB",
        "colab_type": "text"
      },
      "source": [
        "#### STEP5. 查看訓練過程的準確率與損失曲線"
      ]
    },
    {
      "cell_type": "markdown",
      "metadata": {
        "id": "ZHVZfMQP9sR-",
        "colab_type": "text"
      },
      "source": [
        "* 準確率"
      ]
    },
    {
      "cell_type": "code",
      "metadata": {
        "id": "M_lz-MKV9vEI",
        "colab_type": "code",
        "outputId": "94cfad64-61f4-4988-8c1a-0779a28753f2",
        "colab": {
          "base_uri": "https://localhost:8080/",
          "height": 295
        }
      },
      "source": [
        "show_train_history(train_history3, 'acc', 'val_acc')"
      ],
      "execution_count": 0,
      "outputs": [
        {
          "output_type": "display_data",
          "data": {
            "image/png": "[encoded data removed]",
            "text/plain": [
              "<Figure size 432x288 with 1 Axes>"
            ]
          },
          "metadata": {
            "tags": []
          }
        }
      ]
    },
    {
      "cell_type": "markdown",
      "metadata": {
        "id": "r9Hk-zOc91Lb",
        "colab_type": "text"
      },
      "source": [
        "* 損失曲線"
      ]
    },
    {
      "cell_type": "code",
      "metadata": {
        "id": "d2-MaY7v96SP",
        "colab_type": "code",
        "outputId": "2ae52d65-5398-4028-eec2-b882249f9a1b",
        "colab": {
          "base_uri": "https://localhost:8080/",
          "height": 295
        }
      },
      "source": [
        "show_train_history(train_history3, 'loss', 'val_loss')"
      ],
      "execution_count": 0,
      "outputs": [
        {
          "output_type": "display_data",
          "data": {
            "image/png": "[encoded data removed]",
            "text/plain": [
              "<Figure size 432x288 with 1 Axes>"
            ]
          },
          "metadata": {
            "tags": []
          }
        }
      ]
    },
    {
      "cell_type": "markdown",
      "metadata": {
        "id": "wwmgjcAv-Scn",
        "colab_type": "text"
      },
      "source": [
        "#### step6. 查看準確率"
      ]
    },
    {
      "cell_type": "code",
      "metadata": {
        "id": "ZEXONzkW-T06",
        "colab_type": "code",
        "outputId": "67e1c8bc-ad04-4875-8afa-231da2e44ab7",
        "colab": {
          "base_uri": "https://localhost:8080/",
          "height": 70
        }
      },
      "source": [
        "scores3 = model3.evaluate(X_Test_Normalization, y_Test_OneHotEncoding)\n",
        "print()\n",
        "print('accuracy = ', scores3[1])"
      ],
      "execution_count": 0,
      "outputs": [
        {
          "output_type": "stream",
          "text": [
            "10000/10000 [==============================] - 1s 120us/step\n",
            "\n",
            "accuracy =  0.9821\n"
          ],
          "name": "stdout"
        }
      ]
    },
    {
      "cell_type": "markdown",
      "metadata": {
        "id": "JmwbEK0p9_sJ",
        "colab_type": "text"
      },
      "source": [
        "### MLP模型_4  ─ 建立含兩個隱藏層的多元感知器"
      ]
    },
    {
      "cell_type": "markdown",
      "metadata": {
        "id": "G1bekknu-Jtn",
        "colab_type": "text"
      },
      "source": [
        "* 為了進一步增加準確率，這邊多建一個隱藏層試試看"
      ]
    },
    {
      "cell_type": "markdown",
      "metadata": {
        "id": "z3uwyrgI-r6o",
        "colab_type": "text"
      },
      "source": [
        "#### STEP1. 建立模型"
      ]
    },
    {
      "cell_type": "code",
      "metadata": {
        "id": "BOWnZhS2-8F9",
        "colab_type": "code",
        "colab": {}
      },
      "source": [
        "model4 = Sequential()"
      ],
      "execution_count": 0,
      "outputs": []
    },
    {
      "cell_type": "code",
      "metadata": {
        "id": "AnIFBe-r--Yl",
        "colab_type": "code",
        "colab": {}
      },
      "source": [
        "model4.add(Dense(units = 1000,\n",
        "                 input_dim = 784,\n",
        "                 kernel_initializer = 'normal',\n",
        "                 activation = 'relu'\n",
        "                )\n",
        "          )"
      ],
      "execution_count": 0,
      "outputs": []
    },
    {
      "cell_type": "code",
      "metadata": {
        "id": "ZCVHiRIZ_hGl",
        "colab_type": "code",
        "colab": {}
      },
      "source": [
        "model4.add(Dropout(0.5))"
      ],
      "execution_count": 0,
      "outputs": []
    },
    {
      "cell_type": "code",
      "metadata": {
        "id": "ETOjMuY9_m1o",
        "colab_type": "code",
        "colab": {}
      },
      "source": [
        "model4.add(Dense(units = 1000,\n",
        "                 kernel_initializer = 'normal',\n",
        "                 activation = 'relu'\n",
        "                )\n",
        "          )"
      ],
      "execution_count": 0,
      "outputs": []
    },
    {
      "cell_type": "code",
      "metadata": {
        "id": "4vmKQST4_x4V",
        "colab_type": "code",
        "colab": {}
      },
      "source": [
        "model4.add(Dropout(0.5))"
      ],
      "execution_count": 0,
      "outputs": []
    },
    {
      "cell_type": "code",
      "metadata": {
        "id": "yn8qXqWA_1AM",
        "colab_type": "code",
        "colab": {}
      },
      "source": [
        "model4.add(Dense(units = 10,\n",
        "                 kernel_initializer = 'normal',\n",
        "                 activation = 'softmax'\n",
        "                )\n",
        "          )"
      ],
      "execution_count": 0,
      "outputs": []
    },
    {
      "cell_type": "markdown",
      "metadata": {
        "id": "6mx08hIjABbJ",
        "colab_type": "text"
      },
      "source": [
        "#### STEP2. 查看模型層別摘要"
      ]
    },
    {
      "cell_type": "code",
      "metadata": {
        "id": "UyOOMd5_AF5e",
        "colab_type": "code",
        "outputId": "a45d6f6f-1b12-45ab-bd5c-a82a07924c0c",
        "colab": {
          "base_uri": "https://localhost:8080/",
          "height": 334
        }
      },
      "source": [
        "print(model4.summary())"
      ],
      "execution_count": 0,
      "outputs": [
        {
          "output_type": "stream",
          "text": [
            "_________________________________________________________________\n",
            "Layer (type)                 Output Shape              Param #   \n",
            "=================================================================\n",
            "dense_12 (Dense)             (None, 1000)              785000    \n",
            "_________________________________________________________________\n",
            "dropout_2 (Dropout)          (None, 1000)              0         \n",
            "_________________________________________________________________\n",
            "dense_13 (Dense)             (None, 1000)              1001000   \n",
            "_________________________________________________________________\n",
            "dropout_3 (Dropout)          (None, 1000)              0         \n",
            "_________________________________________________________________\n",
            "dense_14 (Dense)             (None, 10)                10010     \n",
            "=================================================================\n",
            "Total params: 1,796,010\n",
            "Trainable params: 1,796,010\n",
            "Non-trainable params: 0\n",
            "_________________________________________________________________\n",
            "None\n"
          ],
          "name": "stdout"
        }
      ]
    },
    {
      "cell_type": "markdown",
      "metadata": {
        "id": "jP7sABPUAH2n",
        "colab_type": "text"
      },
      "source": [
        "#### STEP3. 查看訓練過程"
      ]
    },
    {
      "cell_type": "code",
      "metadata": {
        "id": "b4InotfKAZxj",
        "colab_type": "code",
        "colab": {}
      },
      "source": [
        "model4.compile(loss = 'categorical_crossentropy',\n",
        "               optimizer = 'adam',\n",
        "               metrics = ['accuracy']\n",
        "              )"
      ],
      "execution_count": 0,
      "outputs": []
    },
    {
      "cell_type": "code",
      "metadata": {
        "id": "idg-gpz7AlS4",
        "colab_type": "code",
        "outputId": "abaeb9b0-bab7-4a31-8c31-94c57b876c0f",
        "colab": {
          "base_uri": "https://localhost:8080/",
          "height": 386
        }
      },
      "source": [
        "train_history4 = model4.fit(x = X_Train_Normalization,\n",
        "                            y = y_Train_OneHotEncoding,\n",
        "                            validation_split = 0.2,\n",
        "                            epochs = 10,\n",
        "                            batch_size = 200,\n",
        "                            verbose = 2\n",
        "                           )"
      ],
      "execution_count": 0,
      "outputs": [
        {
          "output_type": "stream",
          "text": [
            "Train on 48000 samples, validate on 12000 samples\n",
            "Epoch 1/10\n",
            " - 16s - loss: 0.3735 - acc: 0.8826 - val_loss: 0.1383 - val_acc: 0.9585\n",
            "Epoch 2/10\n",
            " - 16s - loss: 0.1626 - acc: 0.9503 - val_loss: 0.1112 - val_acc: 0.9662\n",
            "Epoch 3/10\n",
            " - 16s - loss: 0.1237 - acc: 0.9612 - val_loss: 0.0903 - val_acc: 0.9718\n",
            "Epoch 4/10\n",
            " - 16s - loss: 0.1002 - acc: 0.9692 - val_loss: 0.0864 - val_acc: 0.9724\n",
            "Epoch 5/10\n",
            " - 16s - loss: 0.0842 - acc: 0.9733 - val_loss: 0.0769 - val_acc: 0.9776\n",
            "Epoch 6/10\n",
            " - 16s - loss: 0.0739 - acc: 0.9761 - val_loss: 0.0760 - val_acc: 0.9762\n",
            "Epoch 7/10\n",
            " - 16s - loss: 0.0657 - acc: 0.9787 - val_loss: 0.0737 - val_acc: 0.9790\n",
            "Epoch 8/10\n",
            " - 16s - loss: 0.0601 - acc: 0.9799 - val_loss: 0.0795 - val_acc: 0.9787\n",
            "Epoch 9/10\n",
            " - 16s - loss: 0.0553 - acc: 0.9824 - val_loss: 0.0841 - val_acc: 0.9768\n",
            "Epoch 10/10\n",
            " - 16s - loss: 0.0520 - acc: 0.9828 - val_loss: 0.0788 - val_acc: 0.9788\n"
          ],
          "name": "stdout"
        }
      ]
    },
    {
      "cell_type": "markdown",
      "metadata": {
        "id": "h8YmM1BiA_50",
        "colab_type": "text"
      },
      "source": [
        "#### STEP4. 查看訓練過程中的準確率"
      ]
    },
    {
      "cell_type": "markdown",
      "metadata": {
        "id": "wBWE79fkCCvF",
        "colab_type": "text"
      },
      "source": [
        "* 準確率"
      ]
    },
    {
      "cell_type": "code",
      "metadata": {
        "id": "IQFgCvHtB5-Q",
        "colab_type": "code",
        "outputId": "afcbd06f-dcc1-43d3-fd91-5830768a9451",
        "colab": {
          "base_uri": "https://localhost:8080/",
          "height": 295
        }
      },
      "source": [
        "show_train_history(train_history4, 'acc', 'val_acc')"
      ],
      "execution_count": 0,
      "outputs": [
        {
          "output_type": "display_data",
          "data": {
            "image/png": "[encoded data removed]",
            "text/plain": [
              "<Figure size 432x288 with 1 Axes>"
            ]
          },
          "metadata": {
            "tags": []
          }
        }
      ]
    },
    {
      "cell_type": "markdown",
      "metadata": {
        "id": "WpxjhxRuEiP4",
        "colab_type": "text"
      },
      "source": [
        "* 小結：試了4個模型，在新增隱藏層為2層以及增加隱藏層DropOut後，準確率不一定是最好，但有效對策Overfitting"
      ]
    }
  ]
}